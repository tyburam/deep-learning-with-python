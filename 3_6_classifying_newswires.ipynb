{
  "nbformat": 4,
  "nbformat_minor": 0,
  "metadata": {
    "colab": {
      "name": "3_6_classifying_newswires.ipynb",
      "provenance": [],
      "collapsed_sections": []
    },
    "kernelspec": {
      "name": "python3",
      "display_name": "Python 3"
    }
  },
  "cells": [
    {
      "cell_type": "markdown",
      "metadata": {
        "id": "1XJUy2gfBPwo",
        "colab_type": "text"
      },
      "source": [
        "# Doing the stuff the way it goes in the book"
      ]
    },
    {
      "cell_type": "markdown",
      "metadata": {
        "id": "pnHYrtM-BYVd",
        "colab_type": "text"
      },
      "source": [
        "Importing all the stuff"
      ]
    },
    {
      "cell_type": "code",
      "metadata": {
        "id": "Uv1WH-4UBL_P",
        "colab_type": "code",
        "outputId": "1e0d2661-53da-43f5-936c-705823a9bfb9",
        "colab": {
          "base_uri": "https://localhost:8080/",
          "height": 34
        }
      },
      "source": [
        "import keras\n",
        "from keras.datasets import reuters\n",
        "from keras.utils.np_utils import to_categorical\n",
        "from keras import models\n",
        "from keras import layers\n",
        "import numpy as np\n",
        "import matplotlib.pyplot as plt\n",
        "import copy"
      ],
      "execution_count": 0,
      "outputs": [
        {
          "output_type": "stream",
          "text": [
            "Using TensorFlow backend.\n"
          ],
          "name": "stderr"
        }
      ]
    },
    {
      "cell_type": "markdown",
      "metadata": {
        "id": "1yOgIaVtBzPT",
        "colab_type": "text"
      },
      "source": [
        "Loading the data"
      ]
    },
    {
      "cell_type": "code",
      "metadata": {
        "id": "VQOq5HOEB0y8",
        "colab_type": "code",
        "colab": {}
      },
      "source": [
        "(train_data, train_labels), (test_data, test_labels) = reuters.load_data(num_words=10000)"
      ],
      "execution_count": 0,
      "outputs": []
    },
    {
      "cell_type": "markdown",
      "metadata": {
        "id": "K53_5evYCvw3",
        "colab_type": "text"
      },
      "source": [
        "Looking at the data"
      ]
    },
    {
      "cell_type": "code",
      "metadata": {
        "id": "6nLB8UnuYYa9",
        "colab_type": "code",
        "outputId": "422a59f1-f598-4877-b7c5-d5894063e237",
        "colab": {
          "base_uri": "https://localhost:8080/",
          "height": 34
        }
      },
      "source": [
        "len(train_data)"
      ],
      "execution_count": 0,
      "outputs": [
        {
          "output_type": "execute_result",
          "data": {
            "text/plain": [
              "8982"
            ]
          },
          "metadata": {
            "tags": []
          },
          "execution_count": 3
        }
      ]
    },
    {
      "cell_type": "code",
      "metadata": {
        "id": "5HwVXY4cYZyV",
        "colab_type": "code",
        "outputId": "4471dddc-0110-4e26-d355-18ccd0f99e6a",
        "colab": {
          "base_uri": "https://localhost:8080/",
          "height": 34
        }
      },
      "source": [
        "len(test_data)"
      ],
      "execution_count": 0,
      "outputs": [
        {
          "output_type": "execute_result",
          "data": {
            "text/plain": [
              "2246"
            ]
          },
          "metadata": {
            "tags": []
          },
          "execution_count": 4
        }
      ]
    },
    {
      "cell_type": "code",
      "metadata": {
        "id": "hmuko6NoCwWL",
        "colab_type": "code",
        "outputId": "e04a8558-60a8-4eb5-dc61-349a27de8263",
        "colab": {
          "base_uri": "https://localhost:8080/",
          "height": 544
        }
      },
      "source": [
        "train_data[10]"
      ],
      "execution_count": 0,
      "outputs": [
        {
          "output_type": "execute_result",
          "data": {
            "text/plain": [
              "[1,\n",
              " 245,\n",
              " 273,\n",
              " 207,\n",
              " 156,\n",
              " 53,\n",
              " 74,\n",
              " 160,\n",
              " 26,\n",
              " 14,\n",
              " 46,\n",
              " 296,\n",
              " 26,\n",
              " 39,\n",
              " 74,\n",
              " 2979,\n",
              " 3554,\n",
              " 14,\n",
              " 46,\n",
              " 4689,\n",
              " 4329,\n",
              " 86,\n",
              " 61,\n",
              " 3499,\n",
              " 4795,\n",
              " 14,\n",
              " 61,\n",
              " 451,\n",
              " 4329,\n",
              " 17,\n",
              " 12]"
            ]
          },
          "metadata": {
            "tags": []
          },
          "execution_count": 5
        }
      ]
    },
    {
      "cell_type": "code",
      "metadata": {
        "id": "xcwpqY3DC3HF",
        "colab_type": "code",
        "outputId": "b4f24ba5-3228-4833-acc2-5b94e4a4b49b",
        "colab": {
          "base_uri": "https://localhost:8080/",
          "height": 34
        }
      },
      "source": [
        "train_labels[10]"
      ],
      "execution_count": 0,
      "outputs": [
        {
          "output_type": "execute_result",
          "data": {
            "text/plain": [
              "3"
            ]
          },
          "metadata": {
            "tags": []
          },
          "execution_count": 6
        }
      ]
    },
    {
      "cell_type": "code",
      "metadata": {
        "id": "5nER4kAgC6xm",
        "colab_type": "code",
        "outputId": "c368fb55-bbb0-4b5d-f032-05bafae0fb04",
        "colab": {
          "base_uri": "https://localhost:8080/",
          "height": 34
        }
      },
      "source": [
        "max([max(sequence) for sequence in train_data])"
      ],
      "execution_count": 0,
      "outputs": [
        {
          "output_type": "execute_result",
          "data": {
            "text/plain": [
              "9999"
            ]
          },
          "metadata": {
            "tags": []
          },
          "execution_count": 7
        }
      ]
    },
    {
      "cell_type": "markdown",
      "metadata": {
        "id": "7OjujXTBC7hi",
        "colab_type": "text"
      },
      "source": [
        "Decoding the data to see actual text"
      ]
    },
    {
      "cell_type": "code",
      "metadata": {
        "id": "4j5QUjSKDAD0",
        "colab_type": "code",
        "colab": {}
      },
      "source": [
        "# word_index is a dictionary mapping words to an integer index\n",
        "word_index = reuters.get_word_index()\n",
        "# We reverse it, mapping integer indices to words\n",
        "reverse_word_index = dict([(value, key) for (key, value) in word_index.items()])\n",
        "# We decode the review; note that our indices were offset by 3\n",
        "# because 0, 1 and 2 are reserved indices for \"padding\", \"start of sequence\", and \"unknown\".\n",
        "decoded_review = ' '.join([reverse_word_index.get(i - 3, '?') for i in train_data[10]])"
      ],
      "execution_count": 0,
      "outputs": []
    },
    {
      "cell_type": "code",
      "metadata": {
        "id": "3eBYiW0CDCBT",
        "colab_type": "code",
        "outputId": "64d821e7-b6bd-4d87-b04a-2636d822b4e4",
        "colab": {
          "base_uri": "https://localhost:8080/",
          "height": 34
        }
      },
      "source": [
        "decoded_review"
      ],
      "execution_count": 0,
      "outputs": [
        {
          "output_type": "execute_result",
          "data": {
            "text/plain": [
              "'? period ended december 31 shr profit 11 cts vs loss 24 cts net profit 224 271 vs loss 511 349 revs 7 258 688 vs 7 200 349 reuter 3'"
            ]
          },
          "metadata": {
            "tags": []
          },
          "execution_count": 9
        }
      ]
    },
    {
      "cell_type": "markdown",
      "metadata": {
        "id": "Aud-kVXJDHWt",
        "colab_type": "text"
      },
      "source": [
        "Preparing the data"
      ]
    },
    {
      "cell_type": "code",
      "metadata": {
        "id": "ucf48gErDJ5Q",
        "colab_type": "code",
        "colab": {}
      },
      "source": [
        "def vectorize_sequences(sequences, dimension=10000):\n",
        "    # Create an all-zero matrix of shape (len(sequences), dimension)\n",
        "    results = np.zeros((len(sequences), dimension))\n",
        "    for i, sequence in enumerate(sequences):\n",
        "        results[i, sequence] = 1.  # set specific indices of results[i] to 1s\n",
        "    return results"
      ],
      "execution_count": 0,
      "outputs": []
    },
    {
      "cell_type": "code",
      "metadata": {
        "id": "yI8mYSrUZDME",
        "colab_type": "code",
        "colab": {}
      },
      "source": [
        "def to_one_hot(labels, dimension=46):\n",
        "    results = np.zeros((len(labels), dimension))\n",
        "    for i, label in enumerate(labels):\n",
        "        results[i, label] = 1.\n",
        "    return results"
      ],
      "execution_count": 0,
      "outputs": []
    },
    {
      "cell_type": "code",
      "metadata": {
        "id": "lfzfXjg4DMPh",
        "colab_type": "code",
        "colab": {}
      },
      "source": [
        "# Our vectorized training data\n",
        "x_train = vectorize_sequences(train_data)\n",
        "# Our vectorized test data\n",
        "x_test = vectorize_sequences(test_data)"
      ],
      "execution_count": 0,
      "outputs": []
    },
    {
      "cell_type": "code",
      "metadata": {
        "id": "OFw3f1UrZRvb",
        "colab_type": "code",
        "colab": {}
      },
      "source": [
        "# Our vectorized training labels\n",
        "one_hot_train_labels = to_one_hot(train_labels)\n",
        "# Our vectorized test labels\n",
        "one_hot_test_labels = to_one_hot(test_labels)"
      ],
      "execution_count": 0,
      "outputs": []
    },
    {
      "cell_type": "code",
      "metadata": {
        "id": "HqHNA-QTZRiL",
        "colab_type": "code",
        "colab": {}
      },
      "source": [
        "one_hot_train_labels = to_categorical(train_labels)\n",
        "one_hot_test_labels = to_categorical(test_labels)"
      ],
      "execution_count": 0,
      "outputs": []
    },
    {
      "cell_type": "markdown",
      "metadata": {
        "id": "aAkxI5eEDUWI",
        "colab_type": "text"
      },
      "source": [
        "Building network"
      ]
    },
    {
      "cell_type": "code",
      "metadata": {
        "id": "wZcnz5aWDV7H",
        "colab_type": "code",
        "outputId": "f9b82f7e-a9ce-464d-b61c-d9445fc4fcf6",
        "colab": {
          "base_uri": "https://localhost:8080/",
          "height": 139
        }
      },
      "source": [
        "model = models.Sequential()\n",
        "model.add(layers.Dense(64, activation='relu', input_shape=(10000,)))\n",
        "model.add(layers.Dense(64, activation='relu'))\n",
        "model.add(layers.Dense(46, activation='sigmoid'))"
      ],
      "execution_count": 0,
      "outputs": [
        {
          "output_type": "stream",
          "text": [
            "WARNING:tensorflow:From /usr/local/lib/python3.6/dist-packages/keras/backend/tensorflow_backend.py:66: The name tf.get_default_graph is deprecated. Please use tf.compat.v1.get_default_graph instead.\n",
            "\n",
            "WARNING:tensorflow:From /usr/local/lib/python3.6/dist-packages/keras/backend/tensorflow_backend.py:541: The name tf.placeholder is deprecated. Please use tf.compat.v1.placeholder instead.\n",
            "\n",
            "WARNING:tensorflow:From /usr/local/lib/python3.6/dist-packages/keras/backend/tensorflow_backend.py:4432: The name tf.random_uniform is deprecated. Please use tf.random.uniform instead.\n",
            "\n"
          ],
          "name": "stdout"
        }
      ]
    },
    {
      "cell_type": "markdown",
      "metadata": {
        "id": "VotuxO9lDZ-N",
        "colab_type": "text"
      },
      "source": [
        "Preparing network to be used"
      ]
    },
    {
      "cell_type": "code",
      "metadata": {
        "id": "nDrwBMTNDb5y",
        "colab_type": "code",
        "outputId": "4e65a70b-f330-4ece-fd78-5d9782294253",
        "colab": {
          "base_uri": "https://localhost:8080/",
          "height": 105
        }
      },
      "source": [
        "model.compile(optimizer='rmsprop',\n",
        "              loss='categorical_crossentropy',\n",
        "              metrics=['accuracy'])"
      ],
      "execution_count": 0,
      "outputs": [
        {
          "output_type": "stream",
          "text": [
            "WARNING:tensorflow:From /usr/local/lib/python3.6/dist-packages/keras/optimizers.py:793: The name tf.train.Optimizer is deprecated. Please use tf.compat.v1.train.Optimizer instead.\n",
            "\n",
            "WARNING:tensorflow:From /usr/local/lib/python3.6/dist-packages/keras/backend/tensorflow_backend.py:3576: The name tf.log is deprecated. Please use tf.math.log instead.\n",
            "\n"
          ],
          "name": "stdout"
        }
      ]
    },
    {
      "cell_type": "markdown",
      "metadata": {
        "id": "epCM0y9CD24j",
        "colab_type": "text"
      },
      "source": [
        "Preparing validation data"
      ]
    },
    {
      "cell_type": "code",
      "metadata": {
        "id": "96gpQCpVD4dj",
        "colab_type": "code",
        "colab": {}
      },
      "source": [
        "x_val = x_train[:1000]\n",
        "partial_x_train = x_train[1000:]\n",
        "\n",
        "y_val = one_hot_train_labels[:1000]\n",
        "partial_y_train = one_hot_train_labels[1000:]"
      ],
      "execution_count": 0,
      "outputs": []
    },
    {
      "cell_type": "markdown",
      "metadata": {
        "id": "ENH7tM-3Dzhv",
        "colab_type": "text"
      },
      "source": [
        "Performing training"
      ]
    },
    {
      "cell_type": "code",
      "metadata": {
        "id": "gcqpJzQtD0I5",
        "colab_type": "code",
        "outputId": "d0fc3b18-4c42-423c-ac56-7516eebbff57",
        "colab": {
          "base_uri": "https://localhost:8080/",
          "height": 1000
        }
      },
      "source": [
        "history = model.fit(partial_x_train,\n",
        "                    partial_y_train,\n",
        "                    epochs=20,\n",
        "                    batch_size=512,\n",
        "                    validation_data=(x_val, y_val))"
      ],
      "execution_count": 0,
      "outputs": [
        {
          "output_type": "stream",
          "text": [
            "WARNING:tensorflow:From /usr/local/lib/python3.6/dist-packages/tensorflow_core/python/ops/math_grad.py:1424: where (from tensorflow.python.ops.array_ops) is deprecated and will be removed in a future version.\n",
            "Instructions for updating:\n",
            "Use tf.where in 2.0, which has the same broadcast rule as np.where\n",
            "WARNING:tensorflow:From /usr/local/lib/python3.6/dist-packages/keras/backend/tensorflow_backend.py:1033: The name tf.assign_add is deprecated. Please use tf.compat.v1.assign_add instead.\n",
            "\n",
            "WARNING:tensorflow:From /usr/local/lib/python3.6/dist-packages/keras/backend/tensorflow_backend.py:1020: The name tf.assign is deprecated. Please use tf.compat.v1.assign instead.\n",
            "\n",
            "WARNING:tensorflow:From /usr/local/lib/python3.6/dist-packages/keras/backend/tensorflow_backend.py:3005: The name tf.Session is deprecated. Please use tf.compat.v1.Session instead.\n",
            "\n",
            "Train on 7982 samples, validate on 1000 samples\n",
            "Epoch 1/20\n",
            "WARNING:tensorflow:From /usr/local/lib/python3.6/dist-packages/keras/backend/tensorflow_backend.py:190: The name tf.get_default_session is deprecated. Please use tf.compat.v1.get_default_session instead.\n",
            "\n",
            "WARNING:tensorflow:From /usr/local/lib/python3.6/dist-packages/keras/backend/tensorflow_backend.py:197: The name tf.ConfigProto is deprecated. Please use tf.compat.v1.ConfigProto instead.\n",
            "\n",
            "WARNING:tensorflow:From /usr/local/lib/python3.6/dist-packages/keras/backend/tensorflow_backend.py:207: The name tf.global_variables is deprecated. Please use tf.compat.v1.global_variables instead.\n",
            "\n",
            "WARNING:tensorflow:From /usr/local/lib/python3.6/dist-packages/keras/backend/tensorflow_backend.py:216: The name tf.is_variable_initialized is deprecated. Please use tf.compat.v1.is_variable_initialized instead.\n",
            "\n",
            "WARNING:tensorflow:From /usr/local/lib/python3.6/dist-packages/keras/backend/tensorflow_backend.py:223: The name tf.variables_initializer is deprecated. Please use tf.compat.v1.variables_initializer instead.\n",
            "\n",
            "7982/7982 [==============================] - 1s 183us/step - loss: 3.2844 - acc: 0.4975 - val_loss: 2.7879 - val_acc: 0.5360\n",
            "Epoch 2/20\n",
            "7982/7982 [==============================] - 1s 134us/step - loss: 2.3851 - acc: 0.4241 - val_loss: 2.0732 - val_acc: 0.3540\n",
            "Epoch 3/20\n",
            "7982/7982 [==============================] - 1s 158us/step - loss: 1.7998 - acc: 0.3514 - val_loss: 1.7077 - val_acc: 0.3540\n",
            "Epoch 4/20\n",
            "7982/7982 [==============================] - 1s 145us/step - loss: 1.3941 - acc: 0.3514 - val_loss: 1.4513 - val_acc: 0.3540\n",
            "Epoch 5/20\n",
            "7982/7982 [==============================] - 1s 136us/step - loss: 1.1507 - acc: 0.3867 - val_loss: 1.2101 - val_acc: 0.6710\n",
            "Epoch 6/20\n",
            "7982/7982 [==============================] - 1s 133us/step - loss: 0.7177 - acc: 0.8399 - val_loss: 0.9459 - val_acc: 0.8060\n",
            "Epoch 7/20\n",
            "7982/7982 [==============================] - 1s 137us/step - loss: 0.5217 - acc: 0.8943 - val_loss: 0.9390 - val_acc: 0.7970\n",
            "Epoch 8/20\n",
            "7982/7982 [==============================] - 1s 133us/step - loss: nan - acc: 0.7611 - val_loss: nan - val_acc: 0.0060\n",
            "Epoch 9/20\n",
            "7982/7982 [==============================] - 1s 134us/step - loss: nan - acc: 0.0061 - val_loss: nan - val_acc: 0.0060\n",
            "Epoch 10/20\n",
            "7982/7982 [==============================] - 1s 132us/step - loss: nan - acc: 0.0061 - val_loss: nan - val_acc: 0.0060\n",
            "Epoch 11/20\n",
            "7982/7982 [==============================] - 1s 135us/step - loss: nan - acc: 0.0061 - val_loss: nan - val_acc: 0.0060\n",
            "Epoch 12/20\n",
            "7982/7982 [==============================] - 1s 135us/step - loss: nan - acc: 0.0061 - val_loss: nan - val_acc: 0.0060\n",
            "Epoch 13/20\n",
            "7982/7982 [==============================] - 1s 135us/step - loss: nan - acc: 0.0061 - val_loss: nan - val_acc: 0.0060\n",
            "Epoch 14/20\n",
            "7982/7982 [==============================] - 1s 133us/step - loss: nan - acc: 0.0061 - val_loss: nan - val_acc: 0.0060\n",
            "Epoch 15/20\n",
            "7982/7982 [==============================] - 1s 135us/step - loss: nan - acc: 0.0061 - val_loss: nan - val_acc: 0.0060\n",
            "Epoch 16/20\n",
            "7982/7982 [==============================] - 1s 134us/step - loss: nan - acc: 0.0061 - val_loss: nan - val_acc: 0.0060\n",
            "Epoch 17/20\n",
            "7982/7982 [==============================] - 1s 138us/step - loss: nan - acc: 0.0061 - val_loss: nan - val_acc: 0.0060\n",
            "Epoch 18/20\n",
            "7982/7982 [==============================] - 1s 135us/step - loss: nan - acc: 0.0061 - val_loss: nan - val_acc: 0.0060\n",
            "Epoch 19/20\n",
            "7982/7982 [==============================] - 1s 135us/step - loss: nan - acc: 0.0061 - val_loss: nan - val_acc: 0.0060\n",
            "Epoch 20/20\n",
            "7982/7982 [==============================] - 1s 134us/step - loss: nan - acc: 0.0061 - val_loss: nan - val_acc: 0.0060\n"
          ],
          "name": "stdout"
        }
      ]
    },
    {
      "cell_type": "markdown",
      "metadata": {
        "id": "t-MQge5JD-I9",
        "colab_type": "text"
      },
      "source": [
        "Looking at the training performance history"
      ]
    },
    {
      "cell_type": "code",
      "metadata": {
        "id": "4Ver5PZwEBDC",
        "colab_type": "code",
        "outputId": "27f09854-c7f5-406c-abb5-f56327ddaa0a",
        "colab": {
          "base_uri": "https://localhost:8080/",
          "height": 34
        }
      },
      "source": [
        "history_dict = history.history\n",
        "history_dict.keys()"
      ],
      "execution_count": 0,
      "outputs": [
        {
          "output_type": "execute_result",
          "data": {
            "text/plain": [
              "dict_keys(['val_loss', 'val_acc', 'loss', 'acc'])"
            ]
          },
          "metadata": {
            "tags": []
          },
          "execution_count": 19
        }
      ]
    },
    {
      "cell_type": "code",
      "metadata": {
        "id": "b729n5eGEGlS",
        "colab_type": "code",
        "colab": {}
      },
      "source": [
        "acc = history.history['acc']\n",
        "val_acc = history.history['val_acc']\n",
        "loss = history.history['loss']\n",
        "val_loss = history.history['val_loss']\n",
        "epochs = range(1, len(acc) + 1)"
      ],
      "execution_count": 0,
      "outputs": []
    },
    {
      "cell_type": "code",
      "metadata": {
        "id": "kLJuF7stEEiv",
        "colab_type": "code",
        "outputId": "371db28c-8837-4cdd-999a-a0f8c5dfcda1",
        "colab": {
          "base_uri": "https://localhost:8080/",
          "height": 295
        }
      },
      "source": [
        "# \"bo\" is for \"blue dot\"\n",
        "plt.plot(epochs, loss, 'bo', label='Training loss')\n",
        "# b is for \"solid blue line\"\n",
        "plt.plot(epochs, val_loss, 'b', label='Validation loss')\n",
        "plt.title('Training and validation loss')\n",
        "plt.xlabel('Epochs')\n",
        "plt.ylabel('Loss')\n",
        "plt.legend()\n",
        "\n",
        "plt.show()"
      ],
      "execution_count": 0,
      "outputs": [
        {
          "output_type": "display_data",
          "data": {
            "image/png": "[encoded data removed]",
            "text/plain": [
              "<Figure size 432x288 with 1 Axes>"
            ]
          },
          "metadata": {
            "tags": []
          }
        }
      ]
    },
    {
      "cell_type": "code",
      "metadata": {
        "id": "dQ0En9JMETqp",
        "colab_type": "code",
        "outputId": "9a43ee6a-dc27-4857-e29a-c0850a3317cf",
        "colab": {
          "base_uri": "https://localhost:8080/",
          "height": 34
        }
      },
      "source": [
        "plt.clf()   # clear figure\n",
        "acc_values = history_dict['acc']\n",
        "val_acc_values = history_dict['val_acc']"
      ],
      "execution_count": 0,
      "outputs": [
        {
          "output_type": "display_data",
          "data": {
            "text/plain": [
              "<Figure size 432x288 with 0 Axes>"
            ]
          },
          "metadata": {
            "tags": []
          }
        }
      ]
    },
    {
      "cell_type": "code",
      "metadata": {
        "id": "ytqdq45pERYw",
        "colab_type": "code",
        "outputId": "d667d620-a710-407d-cfa1-b39aa497a23f",
        "colab": {
          "base_uri": "https://localhost:8080/",
          "height": 295
        }
      },
      "source": [
        "plt.plot(epochs, acc, 'bo', label='Training acc')\n",
        "plt.plot(epochs, val_acc, 'b', label='Validation acc')\n",
        "plt.title('Training and validation accuracy')\n",
        "plt.xlabel('Epochs')\n",
        "plt.ylabel('Loss')\n",
        "plt.legend()\n",
        "\n",
        "plt.show()"
      ],
      "execution_count": 0,
      "outputs": [
        {
          "output_type": "display_data",
          "data": {
            "image/png": "[encoded data removed]",
            "text/plain": [
              "<Figure size 432x288 with 1 Axes>"
            ]
          },
          "metadata": {
            "tags": []
          }
        }
      ]
    },
    {
      "cell_type": "markdown",
      "metadata": {
        "id": "P7BIISVCEexx",
        "colab_type": "text"
      },
      "source": [
        "New model and it's evaluation"
      ]
    },
    {
      "cell_type": "code",
      "metadata": {
        "id": "OCFsI0lNEiCh",
        "colab_type": "code",
        "outputId": "79f95e0e-0791-4e1a-cdb4-0469f4f20d2c",
        "colab": {
          "base_uri": "https://localhost:8080/",
          "height": 323
        }
      },
      "source": [
        "model = models.Sequential()\n",
        "model.add(layers.Dense(64, activation='relu', input_shape=(10000,)))\n",
        "model.add(layers.Dense(64, activation='relu'))\n",
        "model.add(layers.Dense(46, activation='softmax'))\n",
        "\n",
        "model.compile(optimizer='rmsprop',\n",
        "              loss='categorical_crossentropy',\n",
        "              metrics=['accuracy'])\n",
        "\n",
        "model.fit(partial_x_train,\n",
        "          partial_y_train,\n",
        "          epochs=8,\n",
        "          batch_size=512,\n",
        "          validation_data=(x_val, y_val))\n",
        "\n",
        "results = model.evaluate(x_test, one_hot_test_labels)"
      ],
      "execution_count": 0,
      "outputs": [
        {
          "output_type": "stream",
          "text": [
            "Train on 7982 samples, validate on 1000 samples\n",
            "Epoch 1/8\n",
            "7982/7982 [==============================] - 1s 184us/step - loss: 2.5416 - acc: 0.5371 - val_loss: 1.7163 - val_acc: 0.6290\n",
            "Epoch 2/8\n",
            "7982/7982 [==============================] - 1s 139us/step - loss: 1.4006 - acc: 0.7070 - val_loss: 1.3295 - val_acc: 0.6980\n",
            "Epoch 3/8\n",
            "7982/7982 [==============================] - 1s 137us/step - loss: 1.0514 - acc: 0.7694 - val_loss: 1.1884 - val_acc: 0.7470\n",
            "Epoch 4/8\n",
            "7982/7982 [==============================] - 1s 134us/step - loss: 0.8222 - acc: 0.8276 - val_loss: 1.0694 - val_acc: 0.7780\n",
            "Epoch 5/8\n",
            "7982/7982 [==============================] - 1s 138us/step - loss: 0.6547 - acc: 0.8637 - val_loss: 1.0651 - val_acc: 0.7650\n",
            "Epoch 6/8\n",
            "7982/7982 [==============================] - 1s 135us/step - loss: 0.5216 - acc: 0.8896 - val_loss: 0.9520 - val_acc: 0.8090\n",
            "Epoch 7/8\n",
            "7982/7982 [==============================] - 1s 138us/step - loss: 0.4158 - acc: 0.9138 - val_loss: 0.9662 - val_acc: 0.8020\n",
            "Epoch 8/8\n",
            "7982/7982 [==============================] - 1s 135us/step - loss: 0.3385 - acc: 0.9281 - val_loss: 0.9253 - val_acc: 0.8100\n",
            "2246/2246 [==============================] - 0s 101us/step\n"
          ],
          "name": "stdout"
        }
      ]
    },
    {
      "cell_type": "code",
      "metadata": {
        "id": "4x0dn7VkEkW5",
        "colab_type": "code",
        "outputId": "f8e21118-1491-42fe-bd96-c6e6612bda1e",
        "colab": {
          "base_uri": "https://localhost:8080/",
          "height": 34
        }
      },
      "source": [
        "results"
      ],
      "execution_count": 0,
      "outputs": [
        {
          "output_type": "execute_result",
          "data": {
            "text/plain": [
              "[0.9926834533178477, 0.7822796082188801]"
            ]
          },
          "metadata": {
            "tags": []
          },
          "execution_count": 25
        }
      ]
    },
    {
      "cell_type": "markdown",
      "metadata": {
        "id": "0rBynpgiamtO",
        "colab_type": "text"
      },
      "source": [
        "Comparing to random baseline"
      ]
    },
    {
      "cell_type": "code",
      "metadata": {
        "id": "JeKCaX1Caory",
        "colab_type": "code",
        "outputId": "fa8c74ae-374f-48f4-cb6b-b6c74043ae51",
        "colab": {
          "base_uri": "https://localhost:8080/",
          "height": 34
        }
      },
      "source": [
        "test_labels_copy = copy.copy(test_labels)\n",
        "np.random.shuffle(test_labels_copy)\n",
        "float(np.sum(np.array(test_labels) == np.array(test_labels_copy))) / len(test_labels)"
      ],
      "execution_count": 0,
      "outputs": [
        {
          "output_type": "execute_result",
          "data": {
            "text/plain": [
              "0.19456812110418523"
            ]
          },
          "metadata": {
            "tags": []
          },
          "execution_count": 26
        }
      ]
    },
    {
      "cell_type": "markdown",
      "metadata": {
        "id": "yUFa5CydEk7I",
        "colab_type": "text"
      },
      "source": [
        "Prediction"
      ]
    },
    {
      "cell_type": "code",
      "metadata": {
        "id": "hj4IM-s7EmNK",
        "colab_type": "code",
        "colab": {}
      },
      "source": [
        "predictions = model.predict(x_test)"
      ],
      "execution_count": 0,
      "outputs": []
    },
    {
      "cell_type": "code",
      "metadata": {
        "id": "VE-IBaBca7co",
        "colab_type": "code",
        "outputId": "856b850c-046f-4248-ebf3-130fdf91cf93",
        "colab": {
          "base_uri": "https://localhost:8080/",
          "height": 34
        }
      },
      "source": [
        "predictions[0].shape"
      ],
      "execution_count": 0,
      "outputs": [
        {
          "output_type": "execute_result",
          "data": {
            "text/plain": [
              "(46,)"
            ]
          },
          "metadata": {
            "tags": []
          },
          "execution_count": 28
        }
      ]
    },
    {
      "cell_type": "code",
      "metadata": {
        "id": "wimYl9HAa-Ag",
        "colab_type": "code",
        "outputId": "47582ae4-f19a-4a40-a4f4-e16170f9c1ab",
        "colab": {
          "base_uri": "https://localhost:8080/",
          "height": 34
        }
      },
      "source": [
        "np.sum(predictions[0])"
      ],
      "execution_count": 0,
      "outputs": [
        {
          "output_type": "execute_result",
          "data": {
            "text/plain": [
              "0.9999998"
            ]
          },
          "metadata": {
            "tags": []
          },
          "execution_count": 29
        }
      ]
    },
    {
      "cell_type": "code",
      "metadata": {
        "id": "BvcUJcDIbBzZ",
        "colab_type": "code",
        "outputId": "11c4832a-e79b-4e8f-b996-369ba1c8e5fa",
        "colab": {
          "base_uri": "https://localhost:8080/",
          "height": 34
        }
      },
      "source": [
        "np.argmax(predictions[0])"
      ],
      "execution_count": 0,
      "outputs": [
        {
          "output_type": "execute_result",
          "data": {
            "text/plain": [
              "3"
            ]
          },
          "metadata": {
            "tags": []
          },
          "execution_count": 30
        }
      ]
    },
    {
      "cell_type": "markdown",
      "metadata": {
        "id": "52GFdVYIbOk0",
        "colab_type": "text"
      },
      "source": [
        "### A different way to handle the labels and the loss"
      ]
    },
    {
      "cell_type": "markdown",
      "metadata": {
        "id": "ByXaZSYWbQlC",
        "colab_type": "text"
      },
      "source": [
        "Labels as integer tensors"
      ]
    },
    {
      "cell_type": "code",
      "metadata": {
        "id": "iNc_ofGkbnDs",
        "colab_type": "code",
        "colab": {}
      },
      "source": [
        "y_train = np.array(train_labels)\n",
        "y_test = np.array(test_labels)"
      ],
      "execution_count": 0,
      "outputs": []
    },
    {
      "cell_type": "code",
      "metadata": {
        "id": "CvZaAeqSejas",
        "colab_type": "code",
        "colab": {}
      },
      "source": [
        "x_val = x_train[:1000]\n",
        "partial_x_train = x_train[1000:]\n",
        "\n",
        "y_val = y_train[:1000]\n",
        "partial_y_train = y_train[1000:]"
      ],
      "execution_count": 0,
      "outputs": []
    },
    {
      "cell_type": "code",
      "metadata": {
        "id": "20ZXttIsf0ku",
        "colab_type": "code",
        "outputId": "40ee9549-396d-41ad-a585-ef1afda0796c",
        "colab": {
          "base_uri": "https://localhost:8080/",
          "height": 34
        }
      },
      "source": [
        "partial_x_train.shape"
      ],
      "execution_count": 0,
      "outputs": [
        {
          "output_type": "execute_result",
          "data": {
            "text/plain": [
              "(7982, 10000)"
            ]
          },
          "metadata": {
            "tags": []
          },
          "execution_count": 33
        }
      ]
    },
    {
      "cell_type": "code",
      "metadata": {
        "id": "uMfuz4b1iAWX",
        "colab_type": "code",
        "outputId": "2699be54-8d47-467e-9e6e-3998db6af79a",
        "colab": {
          "base_uri": "https://localhost:8080/",
          "height": 34
        }
      },
      "source": [
        "y_val.max()"
      ],
      "execution_count": 0,
      "outputs": [
        {
          "output_type": "execute_result",
          "data": {
            "text/plain": [
              "45"
            ]
          },
          "metadata": {
            "tags": []
          },
          "execution_count": 34
        }
      ]
    },
    {
      "cell_type": "markdown",
      "metadata": {
        "id": "sLKeASW8bpr0",
        "colab_type": "text"
      },
      "source": [
        "Changing loss to work with integer labels instead of categorical labels"
      ]
    },
    {
      "cell_type": "code",
      "metadata": {
        "id": "MrDyokVSbyF6",
        "colab_type": "code",
        "colab": {}
      },
      "source": [
        "model.compile(optimizer='rmsprop', loss='sparse_categorical_crossentropy', metrics=['acc'])"
      ],
      "execution_count": 0,
      "outputs": []
    },
    {
      "cell_type": "markdown",
      "metadata": {
        "id": "Czw15NKOb1i_",
        "colab_type": "text"
      },
      "source": [
        "New model"
      ]
    },
    {
      "cell_type": "code",
      "metadata": {
        "id": "jpEtoWhKb2rt",
        "colab_type": "code",
        "outputId": "64ec2c5e-361c-4d66-dc0d-f1fa23287fa5",
        "colab": {
          "base_uri": "https://localhost:8080/",
          "height": 731
        }
      },
      "source": [
        "model = models.Sequential()\n",
        "model.add(layers.Dense(64, activation='relu', input_shape=(10000,)))\n",
        "model.add(layers.Dense(4, activation='relu'))\n",
        "model.add(layers.Dense(46, activation='softmax'))\n",
        "\n",
        "# model.summary()\n",
        "\n",
        "model.compile(optimizer='rmsprop',\n",
        "              loss='sparse_categorical_crossentropy',\n",
        "              metrics=['accuracy'])\n",
        "\n",
        "model.fit(partial_x_train,\n",
        "          partial_y_train,\n",
        "          epochs=20,\n",
        "          batch_size=128,\n",
        "          validation_data=(x_val, y_val))"
      ],
      "execution_count": 0,
      "outputs": [
        {
          "output_type": "stream",
          "text": [
            "Train on 7982 samples, validate on 1000 samples\n",
            "Epoch 1/20\n",
            "7982/7982 [==============================] - 2s 269us/step - loss: 2.9107 - acc: 0.2625 - val_loss: 2.1015 - val_acc: 0.5460\n",
            "Epoch 2/20\n",
            "7982/7982 [==============================] - 2s 218us/step - loss: 1.7806 - acc: 0.5578 - val_loss: 1.6589 - val_acc: 0.5660\n",
            "Epoch 3/20\n",
            "7982/7982 [==============================] - 1s 187us/step - loss: 1.4559 - acc: 0.5946 - val_loss: 1.4956 - val_acc: 0.6120\n",
            "Epoch 4/20\n",
            "7982/7982 [==============================] - 1s 188us/step - loss: 1.2576 - acc: 0.6555 - val_loss: 1.4069 - val_acc: 0.6560\n",
            "Epoch 5/20\n",
            "7982/7982 [==============================] - 1s 183us/step - loss: 1.1084 - acc: 0.7022 - val_loss: 1.3704 - val_acc: 0.6660\n",
            "Epoch 6/20\n",
            "7982/7982 [==============================] - 1s 181us/step - loss: 0.9898 - acc: 0.7305 - val_loss: 1.3226 - val_acc: 0.6780\n",
            "Epoch 7/20\n",
            "7982/7982 [==============================] - 1s 185us/step - loss: 0.8889 - acc: 0.7672 - val_loss: 1.3137 - val_acc: 0.6940\n",
            "Epoch 8/20\n",
            "7982/7982 [==============================] - 1s 183us/step - loss: 0.8015 - acc: 0.7849 - val_loss: 1.3102 - val_acc: 0.7000\n",
            "Epoch 9/20\n",
            "7982/7982 [==============================] - 1s 186us/step - loss: 0.7290 - acc: 0.8017 - val_loss: 1.3539 - val_acc: 0.7010\n",
            "Epoch 10/20\n",
            "7982/7982 [==============================] - 2s 188us/step - loss: 0.6693 - acc: 0.8231 - val_loss: 1.3888 - val_acc: 0.7080\n",
            "Epoch 11/20\n",
            "7982/7982 [==============================] - 1s 187us/step - loss: 0.6198 - acc: 0.8393 - val_loss: 1.3992 - val_acc: 0.7120\n",
            "Epoch 12/20\n",
            "7982/7982 [==============================] - 1s 181us/step - loss: 0.5732 - acc: 0.8553 - val_loss: 1.4473 - val_acc: 0.7150\n",
            "Epoch 13/20\n",
            "7982/7982 [==============================] - 1s 183us/step - loss: 0.5378 - acc: 0.8633 - val_loss: 1.4846 - val_acc: 0.7140\n",
            "Epoch 14/20\n",
            "7982/7982 [==============================] - 1s 180us/step - loss: 0.5039 - acc: 0.8720 - val_loss: 1.5308 - val_acc: 0.7180\n",
            "Epoch 15/20\n",
            "7982/7982 [==============================] - 1s 184us/step - loss: 0.4748 - acc: 0.8787 - val_loss: 1.5496 - val_acc: 0.7180\n",
            "Epoch 16/20\n",
            "7982/7982 [==============================] - 1s 183us/step - loss: 0.4519 - acc: 0.8806 - val_loss: 1.5889 - val_acc: 0.7150\n",
            "Epoch 17/20\n",
            "7982/7982 [==============================] - 1s 184us/step - loss: 0.4282 - acc: 0.8840 - val_loss: 1.5920 - val_acc: 0.7170\n",
            "Epoch 18/20\n",
            "7982/7982 [==============================] - 1s 187us/step - loss: 0.4075 - acc: 0.8886 - val_loss: 1.6866 - val_acc: 0.7080\n",
            "Epoch 19/20\n",
            "7982/7982 [==============================] - 1s 183us/step - loss: 0.3898 - acc: 0.8911 - val_loss: 1.7089 - val_acc: 0.7110\n",
            "Epoch 20/20\n",
            "7982/7982 [==============================] - 1s 183us/step - loss: 0.3733 - acc: 0.8979 - val_loss: 1.7824 - val_acc: 0.7010\n"
          ],
          "name": "stdout"
        },
        {
          "output_type": "execute_result",
          "data": {
            "text/plain": [
              "<keras.callbacks.History at 0x7f22acaa9a90>"
            ]
          },
          "metadata": {
            "tags": []
          },
          "execution_count": 36
        }
      ]
    },
    {
      "cell_type": "markdown",
      "metadata": {
        "id": "Co3SzDcYcLhA",
        "colab_type": "text"
      },
      "source": [
        "### Experiments"
      ]
    },
    {
      "cell_type": "code",
      "metadata": {
        "id": "Z0-s1zvBcXcW",
        "colab_type": "code",
        "colab": {}
      },
      "source": [
        "def experiment(units=64, hidden=1):\n",
        "  model = models.Sequential()\n",
        "  model.add(layers.Dense(units, activation='relu', input_shape=(10000,)))\n",
        "  if hidden > 1:\n",
        "    model.add(layers.Dense(4, activation='relu'))\n",
        "    for _ in range(hidden-2):\n",
        "      model.add(layers.Dense(16, activation='relu'))\n",
        "  model.add(layers.Dense(46, activation='softmax'))\n",
        "\n",
        "  model.compile(optimizer='rmsprop',\n",
        "                loss='sparse_categorical_crossentropy',\n",
        "                metrics=['accuracy'])\n",
        "\n",
        "  model.fit(partial_x_train,\n",
        "            partial_y_train,\n",
        "            epochs=20,\n",
        "            batch_size=128,\n",
        "            validation_data=(x_val, y_val))\n",
        "  \n",
        "  return model.evaluate(x_test, y_test)"
      ],
      "execution_count": 0,
      "outputs": []
    },
    {
      "cell_type": "markdown",
      "metadata": {
        "id": "S1eG45oXcNvt",
        "colab_type": "text"
      },
      "source": [
        "Try using larger or smaller layers: 32 units, 128 units..."
      ]
    },
    {
      "cell_type": "code",
      "metadata": {
        "id": "ogj1EL5gcQkW",
        "colab_type": "code",
        "outputId": "25dcabdb-e384-425c-fa96-6edbf8f492d8",
        "colab": {
          "base_uri": "https://localhost:8080/",
          "height": 748
        }
      },
      "source": [
        "experiment(32)"
      ],
      "execution_count": 0,
      "outputs": [
        {
          "output_type": "stream",
          "text": [
            "Train on 7982 samples, validate on 1000 samples\n",
            "Epoch 1/20\n",
            "7982/7982 [==============================] - 1s 175us/step - loss: 2.2802 - acc: 0.5916 - val_loss: 1.5030 - val_acc: 0.6760\n",
            "Epoch 2/20\n",
            "7982/7982 [==============================] - 1s 142us/step - loss: 1.2115 - acc: 0.7471 - val_loss: 1.1494 - val_acc: 0.7600\n",
            "Epoch 3/20\n",
            "7982/7982 [==============================] - 1s 143us/step - loss: 0.8969 - acc: 0.8152 - val_loss: 1.0115 - val_acc: 0.7950\n",
            "Epoch 4/20\n",
            "7982/7982 [==============================] - 1s 143us/step - loss: 0.6995 - acc: 0.8573 - val_loss: 0.9228 - val_acc: 0.8170\n",
            "Epoch 5/20\n",
            "7982/7982 [==============================] - 1s 145us/step - loss: 0.5538 - acc: 0.8865 - val_loss: 0.8810 - val_acc: 0.8180\n",
            "Epoch 6/20\n",
            "7982/7982 [==============================] - 1s 142us/step - loss: 0.4460 - acc: 0.9082 - val_loss: 0.8460 - val_acc: 0.8230\n",
            "Epoch 7/20\n",
            "7982/7982 [==============================] - 1s 166us/step - loss: 0.3640 - acc: 0.9246 - val_loss: 0.8417 - val_acc: 0.8230\n",
            "Epoch 8/20\n",
            "7982/7982 [==============================] - 1s 151us/step - loss: 0.2997 - acc: 0.9369 - val_loss: 0.8352 - val_acc: 0.8230\n",
            "Epoch 9/20\n",
            "7982/7982 [==============================] - 1s 145us/step - loss: 0.2538 - acc: 0.9437 - val_loss: 0.8383 - val_acc: 0.8360\n",
            "Epoch 10/20\n",
            "7982/7982 [==============================] - 1s 144us/step - loss: 0.2179 - acc: 0.9470 - val_loss: 0.8706 - val_acc: 0.8250\n",
            "Epoch 11/20\n",
            "7982/7982 [==============================] - 1s 143us/step - loss: 0.1910 - acc: 0.9516 - val_loss: 0.8564 - val_acc: 0.8300\n",
            "Epoch 12/20\n",
            "7982/7982 [==============================] - 1s 143us/step - loss: 0.1729 - acc: 0.9531 - val_loss: 0.8895 - val_acc: 0.8200\n",
            "Epoch 13/20\n",
            "7982/7982 [==============================] - 1s 145us/step - loss: 0.1569 - acc: 0.9543 - val_loss: 0.8957 - val_acc: 0.8210\n",
            "Epoch 14/20\n",
            "7982/7982 [==============================] - 1s 146us/step - loss: 0.1439 - acc: 0.9563 - val_loss: 0.9209 - val_acc: 0.8240\n",
            "Epoch 15/20\n",
            "7982/7982 [==============================] - 1s 143us/step - loss: 0.1349 - acc: 0.9538 - val_loss: 0.9420 - val_acc: 0.8190\n",
            "Epoch 16/20\n",
            "7982/7982 [==============================] - 1s 140us/step - loss: 0.1273 - acc: 0.9549 - val_loss: 0.9420 - val_acc: 0.8260\n",
            "Epoch 17/20\n",
            "7982/7982 [==============================] - 1s 141us/step - loss: 0.1195 - acc: 0.9572 - val_loss: 0.9608 - val_acc: 0.8220\n",
            "Epoch 18/20\n",
            "7982/7982 [==============================] - 1s 138us/step - loss: 0.1143 - acc: 0.9572 - val_loss: 1.0188 - val_acc: 0.8110\n",
            "Epoch 19/20\n",
            "7982/7982 [==============================] - 1s 142us/step - loss: 0.1112 - acc: 0.9579 - val_loss: 1.0083 - val_acc: 0.8200\n",
            "Epoch 20/20\n",
            "7982/7982 [==============================] - 1s 139us/step - loss: 0.1070 - acc: 0.9570 - val_loss: 1.0319 - val_acc: 0.8190\n",
            "2246/2246 [==============================] - 0s 84us/step\n"
          ],
          "name": "stdout"
        },
        {
          "output_type": "execute_result",
          "data": {
            "text/plain": [
              "[1.1686360833906002, 0.7889581478183437]"
            ]
          },
          "metadata": {
            "tags": []
          },
          "execution_count": 38
        }
      ]
    },
    {
      "cell_type": "code",
      "metadata": {
        "id": "Cr7HZkLecpXW",
        "colab_type": "code",
        "outputId": "cc11e23c-3bdb-490f-b749-e41b27685013",
        "colab": {
          "base_uri": "https://localhost:8080/",
          "height": 748
        }
      },
      "source": [
        "experiment(128)"
      ],
      "execution_count": 0,
      "outputs": [
        {
          "output_type": "stream",
          "text": [
            "Train on 7982 samples, validate on 1000 samples\n",
            "Epoch 1/20\n",
            "7982/7982 [==============================] - 3s 318us/step - loss: 1.6068 - acc: 0.6771 - val_loss: 1.0520 - val_acc: 0.7860\n",
            "Epoch 2/20\n",
            "7982/7982 [==============================] - 2s 279us/step - loss: 0.7403 - acc: 0.8453 - val_loss: 0.8737 - val_acc: 0.8110\n",
            "Epoch 3/20\n",
            "7982/7982 [==============================] - 2s 276us/step - loss: 0.4591 - acc: 0.9039 - val_loss: 0.7944 - val_acc: 0.8250\n",
            "Epoch 4/20\n",
            "7982/7982 [==============================] - 2s 280us/step - loss: 0.3119 - acc: 0.9330 - val_loss: 0.7819 - val_acc: 0.8390\n",
            "Epoch 5/20\n",
            "7982/7982 [==============================] - 2s 304us/step - loss: 0.2382 - acc: 0.9420 - val_loss: 0.8168 - val_acc: 0.8310\n",
            "Epoch 6/20\n",
            "7982/7982 [==============================] - 3s 332us/step - loss: 0.1963 - acc: 0.9499 - val_loss: 0.8445 - val_acc: 0.8230\n",
            "Epoch 7/20\n",
            "7982/7982 [==============================] - 2s 283us/step - loss: 0.1693 - acc: 0.9539 - val_loss: 0.8888 - val_acc: 0.8240\n",
            "Epoch 8/20\n",
            "7982/7982 [==============================] - 2s 279us/step - loss: 0.1565 - acc: 0.9538 - val_loss: 0.9163 - val_acc: 0.8160\n",
            "Epoch 9/20\n",
            "7982/7982 [==============================] - 2s 278us/step - loss: 0.1454 - acc: 0.9549 - val_loss: 0.9689 - val_acc: 0.8090\n",
            "Epoch 10/20\n",
            "7982/7982 [==============================] - 2s 302us/step - loss: 0.1346 - acc: 0.9555 - val_loss: 0.9876 - val_acc: 0.8020\n",
            "Epoch 11/20\n",
            "7982/7982 [==============================] - 2s 303us/step - loss: 0.1330 - acc: 0.9562 - val_loss: 1.0419 - val_acc: 0.8080\n",
            "Epoch 12/20\n",
            "7982/7982 [==============================] - 2s 285us/step - loss: 0.1254 - acc: 0.9575 - val_loss: 1.0490 - val_acc: 0.7930\n",
            "Epoch 13/20\n",
            "7982/7982 [==============================] - 2s 297us/step - loss: 0.1242 - acc: 0.9555 - val_loss: 1.0556 - val_acc: 0.8030\n",
            "Epoch 14/20\n",
            "7982/7982 [==============================] - 2s 310us/step - loss: 0.1188 - acc: 0.9585 - val_loss: 1.0798 - val_acc: 0.8040\n",
            "Epoch 15/20\n",
            "7982/7982 [==============================] - 3s 329us/step - loss: 0.1196 - acc: 0.9568 - val_loss: 1.1619 - val_acc: 0.7950\n",
            "Epoch 16/20\n",
            "7982/7982 [==============================] - 2s 293us/step - loss: 0.1140 - acc: 0.9573 - val_loss: 1.1854 - val_acc: 0.8040\n",
            "Epoch 17/20\n",
            "7982/7982 [==============================] - 2s 278us/step - loss: 0.1123 - acc: 0.9574 - val_loss: 1.1925 - val_acc: 0.8070\n",
            "Epoch 18/20\n",
            "7982/7982 [==============================] - 2s 279us/step - loss: 0.1135 - acc: 0.9567 - val_loss: 1.1816 - val_acc: 0.8010\n",
            "Epoch 19/20\n",
            "7982/7982 [==============================] - 2s 285us/step - loss: 0.1116 - acc: 0.9568 - val_loss: 1.2530 - val_acc: 0.7860\n",
            "Epoch 20/20\n",
            "7982/7982 [==============================] - 2s 276us/step - loss: 0.1123 - acc: 0.9555 - val_loss: 1.2537 - val_acc: 0.7950\n",
            "2246/2246 [==============================] - 0s 139us/step\n"
          ],
          "name": "stdout"
        },
        {
          "output_type": "execute_result",
          "data": {
            "text/plain": [
              "[1.4795476751251084, 0.7724844167408726]"
            ]
          },
          "metadata": {
            "tags": []
          },
          "execution_count": 39
        }
      ]
    },
    {
      "cell_type": "markdown",
      "metadata": {
        "id": "6f20EyPJcQ-A",
        "colab_type": "text"
      },
      "source": [
        "We were using two hidden layers. Now try to use a single hidden layer, or three hidden layers."
      ]
    },
    {
      "cell_type": "code",
      "metadata": {
        "id": "_qfftY4ZcvPi",
        "colab_type": "code",
        "outputId": "cac86c02-165e-4d78-9e62-7bf9effd7113",
        "colab": {
          "base_uri": "https://localhost:8080/",
          "height": 748
        }
      },
      "source": [
        "experiment(hidden=2)"
      ],
      "execution_count": 0,
      "outputs": [
        {
          "output_type": "stream",
          "text": [
            "Train on 7982 samples, validate on 1000 samples\n",
            "Epoch 1/20\n",
            "7982/7982 [==============================] - 2s 230us/step - loss: 2.9164 - acc: 0.2387 - val_loss: 2.1149 - val_acc: 0.5760\n",
            "Epoch 2/20\n",
            "7982/7982 [==============================] - 1s 185us/step - loss: 1.7348 - acc: 0.5981 - val_loss: 1.6001 - val_acc: 0.6020\n",
            "Epoch 3/20\n",
            "7982/7982 [==============================] - 1s 183us/step - loss: 1.4195 - acc: 0.6254 - val_loss: 1.5046 - val_acc: 0.6150\n",
            "Epoch 4/20\n",
            "7982/7982 [==============================] - 1s 185us/step - loss: 1.2669 - acc: 0.6507 - val_loss: 1.4416 - val_acc: 0.6490\n",
            "Epoch 5/20\n",
            "7982/7982 [==============================] - 2s 191us/step - loss: 1.1486 - acc: 0.6921 - val_loss: 1.4153 - val_acc: 0.6640\n",
            "Epoch 6/20\n",
            "7982/7982 [==============================] - 1s 186us/step - loss: 1.0458 - acc: 0.7221 - val_loss: 1.3769 - val_acc: 0.6720\n",
            "Epoch 7/20\n",
            "7982/7982 [==============================] - 1s 186us/step - loss: 0.9510 - acc: 0.7407 - val_loss: 1.3756 - val_acc: 0.6770\n",
            "Epoch 8/20\n",
            "7982/7982 [==============================] - 1s 183us/step - loss: 0.8763 - acc: 0.7518 - val_loss: 1.3734 - val_acc: 0.6870\n",
            "Epoch 9/20\n",
            "7982/7982 [==============================] - 1s 184us/step - loss: 0.8098 - acc: 0.7620 - val_loss: 1.3501 - val_acc: 0.6930\n",
            "Epoch 10/20\n",
            "7982/7982 [==============================] - 1s 184us/step - loss: 0.7495 - acc: 0.7726 - val_loss: 1.3910 - val_acc: 0.7010\n",
            "Epoch 11/20\n",
            "7982/7982 [==============================] - 1s 186us/step - loss: 0.6952 - acc: 0.7977 - val_loss: 1.3782 - val_acc: 0.7000\n",
            "Epoch 12/20\n",
            "7982/7982 [==============================] - 2s 189us/step - loss: 0.6460 - acc: 0.8208 - val_loss: 1.4136 - val_acc: 0.7080\n",
            "Epoch 13/20\n",
            "7982/7982 [==============================] - 1s 184us/step - loss: 0.5996 - acc: 0.8375 - val_loss: 1.4386 - val_acc: 0.7100\n",
            "Epoch 14/20\n",
            "7982/7982 [==============================] - 1s 188us/step - loss: 0.5611 - acc: 0.8507 - val_loss: 1.4714 - val_acc: 0.7070\n",
            "Epoch 15/20\n",
            "7982/7982 [==============================] - 1s 184us/step - loss: 0.5272 - acc: 0.8619 - val_loss: 1.4634 - val_acc: 0.7170\n",
            "Epoch 16/20\n",
            "7982/7982 [==============================] - 1s 183us/step - loss: 0.4997 - acc: 0.8688 - val_loss: 1.4891 - val_acc: 0.7170\n",
            "Epoch 17/20\n",
            "7982/7982 [==============================] - 1s 183us/step - loss: 0.4747 - acc: 0.8733 - val_loss: 1.5671 - val_acc: 0.7090\n",
            "Epoch 18/20\n",
            "7982/7982 [==============================] - 1s 183us/step - loss: 0.4541 - acc: 0.8751 - val_loss: 1.6016 - val_acc: 0.7080\n",
            "Epoch 19/20\n",
            "7982/7982 [==============================] - 1s 186us/step - loss: 0.4344 - acc: 0.8765 - val_loss: 1.6318 - val_acc: 0.7110\n",
            "Epoch 20/20\n",
            "7982/7982 [==============================] - 1s 182us/step - loss: 0.4176 - acc: 0.8802 - val_loss: 1.6652 - val_acc: 0.7070\n",
            "2246/2246 [==============================] - 0s 101us/step\n"
          ],
          "name": "stdout"
        },
        {
          "output_type": "execute_result",
          "data": {
            "text/plain": [
              "[1.8030590057797657, 0.6954585931073951]"
            ]
          },
          "metadata": {
            "tags": []
          },
          "execution_count": 40
        }
      ]
    },
    {
      "cell_type": "code",
      "metadata": {
        "id": "gerhBElScwvh",
        "colab_type": "code",
        "outputId": "ac718a24-ce4f-4772-fb5e-cbfae457f764",
        "colab": {
          "base_uri": "https://localhost:8080/",
          "height": 748
        }
      },
      "source": [
        "experiment(hidden=3)"
      ],
      "execution_count": 0,
      "outputs": [
        {
          "output_type": "stream",
          "text": [
            "Train on 7982 samples, validate on 1000 samples\n",
            "Epoch 1/20\n",
            "7982/7982 [==============================] - 2s 235us/step - loss: 2.6873 - acc: 0.3730 - val_loss: 1.8103 - val_acc: 0.5830\n",
            "Epoch 2/20\n",
            "7982/7982 [==============================] - 1s 185us/step - loss: 1.5977 - acc: 0.6006 - val_loss: 1.5034 - val_acc: 0.6150\n",
            "Epoch 3/20\n",
            "7982/7982 [==============================] - 1s 182us/step - loss: 1.3288 - acc: 0.6432 - val_loss: 1.4104 - val_acc: 0.6320\n",
            "Epoch 4/20\n",
            "7982/7982 [==============================] - 1s 182us/step - loss: 1.1373 - acc: 0.7082 - val_loss: 1.3018 - val_acc: 0.6940\n",
            "Epoch 5/20\n",
            "7982/7982 [==============================] - 1s 184us/step - loss: 0.9981 - acc: 0.7523 - val_loss: 1.2705 - val_acc: 0.7070\n",
            "Epoch 6/20\n",
            "7982/7982 [==============================] - 1s 182us/step - loss: 0.8903 - acc: 0.7747 - val_loss: 1.2764 - val_acc: 0.7150\n",
            "Epoch 7/20\n",
            "7982/7982 [==============================] - 1s 182us/step - loss: 0.8024 - acc: 0.7953 - val_loss: 1.2672 - val_acc: 0.7180\n",
            "Epoch 8/20\n",
            "7982/7982 [==============================] - 2s 213us/step - loss: 0.7304 - acc: 0.8109 - val_loss: 1.3047 - val_acc: 0.7220\n",
            "Epoch 9/20\n",
            "7982/7982 [==============================] - 1s 187us/step - loss: 0.6663 - acc: 0.8231 - val_loss: 1.3315 - val_acc: 0.7150\n",
            "Epoch 10/20\n",
            "7982/7982 [==============================] - 2s 211us/step - loss: 0.6132 - acc: 0.8326 - val_loss: 1.3752 - val_acc: 0.7210\n",
            "Epoch 11/20\n",
            "7982/7982 [==============================] - 1s 187us/step - loss: 0.5655 - acc: 0.8514 - val_loss: 1.4317 - val_acc: 0.7160\n",
            "Epoch 12/20\n",
            "7982/7982 [==============================] - 1s 181us/step - loss: 0.5240 - acc: 0.8636 - val_loss: 1.4347 - val_acc: 0.7220\n",
            "Epoch 13/20\n",
            "7982/7982 [==============================] - 1s 181us/step - loss: 0.4891 - acc: 0.8740 - val_loss: 1.4629 - val_acc: 0.7350\n",
            "Epoch 14/20\n",
            "7982/7982 [==============================] - 1s 178us/step - loss: 0.4558 - acc: 0.8836 - val_loss: 1.5207 - val_acc: 0.7230\n",
            "Epoch 15/20\n",
            "7982/7982 [==============================] - 1s 180us/step - loss: 0.4297 - acc: 0.8913 - val_loss: 1.5654 - val_acc: 0.7190\n",
            "Epoch 16/20\n",
            "7982/7982 [==============================] - 1s 181us/step - loss: 0.4069 - acc: 0.9000 - val_loss: 1.5753 - val_acc: 0.7290\n",
            "Epoch 17/20\n",
            "7982/7982 [==============================] - 1s 187us/step - loss: 0.3840 - acc: 0.9049 - val_loss: 1.6551 - val_acc: 0.7120\n",
            "Epoch 18/20\n",
            "7982/7982 [==============================] - 1s 180us/step - loss: 0.3678 - acc: 0.9069 - val_loss: 1.6580 - val_acc: 0.7130\n",
            "Epoch 19/20\n",
            "7982/7982 [==============================] - 2s 232us/step - loss: 0.3499 - acc: 0.9134 - val_loss: 1.7799 - val_acc: 0.6980\n",
            "Epoch 20/20\n",
            "7982/7982 [==============================] - 2s 192us/step - loss: 0.3353 - acc: 0.9148 - val_loss: 1.7416 - val_acc: 0.7020\n",
            "2246/2246 [==============================] - 0s 104us/step\n"
          ],
          "name": "stdout"
        },
        {
          "output_type": "execute_result",
          "data": {
            "text/plain": [
              "[2.132171247011832, 0.6763134461795233]"
            ]
          },
          "metadata": {
            "tags": []
          },
          "execution_count": 41
        }
      ]
    }
  ]
}