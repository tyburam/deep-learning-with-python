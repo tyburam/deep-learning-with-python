{
  "nbformat": 4,
  "nbformat_minor": 0,
  "metadata": {
    "colab": {
      "name": "4_4_overfitting_and_underfitting",
      "provenance": [],
      "collapsed_sections": []
    },
    "kernelspec": {
      "name": "python3",
      "display_name": "Python 3"
    }
  },
  "cells": [
    {
      "cell_type": "markdown",
      "metadata": {
        "id": "1XJUy2gfBPwo",
        "colab_type": "text"
      },
      "source": [
        "# 4.4 Overfiting and underfitting"
      ]
    },
    {
      "cell_type": "markdown",
      "metadata": {
        "id": "pnHYrtM-BYVd",
        "colab_type": "text"
      },
      "source": [
        "Importing all the stuff"
      ]
    },
    {
      "cell_type": "code",
      "metadata": {
        "id": "Uv1WH-4UBL_P",
        "colab_type": "code",
        "outputId": "91456f6b-b0d5-42a2-93af-e2365ceb700f",
        "colab": {
          "base_uri": "https://localhost:8080/",
          "height": 34
        }
      },
      "source": [
        "import keras\n",
        "from keras.datasets import imdb\n",
        "from keras import models\n",
        "from keras import layers\n",
        "from keras import regularizers\n",
        "import numpy as np\n",
        "import matplotlib.pyplot as plt"
      ],
      "execution_count": 0,
      "outputs": [
        {
          "output_type": "stream",
          "text": [
            "Using TensorFlow backend.\n"
          ],
          "name": "stderr"
        }
      ]
    },
    {
      "cell_type": "markdown",
      "metadata": {
        "id": "1yOgIaVtBzPT",
        "colab_type": "text"
      },
      "source": [
        "Loading the data"
      ]
    },
    {
      "cell_type": "code",
      "metadata": {
        "id": "VQOq5HOEB0y8",
        "colab_type": "code",
        "colab": {}
      },
      "source": [
        "(train_data, train_targets), (test_data, test_targets) = imdb.load_data(num_words=10000)"
      ],
      "execution_count": 0,
      "outputs": []
    },
    {
      "cell_type": "markdown",
      "metadata": {
        "id": "K53_5evYCvw3",
        "colab_type": "text"
      },
      "source": [
        "Looking at the data"
      ]
    },
    {
      "cell_type": "code",
      "metadata": {
        "id": "6nLB8UnuYYa9",
        "colab_type": "code",
        "outputId": "a22365b5-acb6-48d7-b741-5d452cadf273",
        "colab": {
          "base_uri": "https://localhost:8080/",
          "height": 34
        }
      },
      "source": [
        "train_data.shape"
      ],
      "execution_count": 0,
      "outputs": [
        {
          "output_type": "execute_result",
          "data": {
            "text/plain": [
              "(25000,)"
            ]
          },
          "metadata": {
            "tags": []
          },
          "execution_count": 3
        }
      ]
    },
    {
      "cell_type": "code",
      "metadata": {
        "id": "5HwVXY4cYZyV",
        "colab_type": "code",
        "outputId": "42845449-7ecf-49bd-b9c2-f5dadffb51f6",
        "colab": {
          "base_uri": "https://localhost:8080/",
          "height": 34
        }
      },
      "source": [
        "test_data.shape"
      ],
      "execution_count": 0,
      "outputs": [
        {
          "output_type": "execute_result",
          "data": {
            "text/plain": [
              "(25000,)"
            ]
          },
          "metadata": {
            "tags": []
          },
          "execution_count": 4
        }
      ]
    },
    {
      "cell_type": "code",
      "metadata": {
        "id": "hmuko6NoCwWL",
        "colab_type": "code",
        "outputId": "bfc0fd36-7a63-4d15-d7c5-89a2c186002b",
        "colab": {
          "base_uri": "https://localhost:8080/",
          "height": 34
        }
      },
      "source": [
        "train_targets"
      ],
      "execution_count": 0,
      "outputs": [
        {
          "output_type": "execute_result",
          "data": {
            "text/plain": [
              "array([1, 0, 0, ..., 0, 1, 0])"
            ]
          },
          "metadata": {
            "tags": []
          },
          "execution_count": 5
        }
      ]
    },
    {
      "cell_type": "markdown",
      "metadata": {
        "id": "Aud-kVXJDHWt",
        "colab_type": "text"
      },
      "source": [
        "Preparing the data"
      ]
    },
    {
      "cell_type": "code",
      "metadata": {
        "id": "ucf48gErDJ5Q",
        "colab_type": "code",
        "colab": {}
      },
      "source": [
        "def vectorize_sequences(sequences, dimension=10000):\n",
        "    # Create an all-zero matrix of shape (len(sequences), dimension)\n",
        "    results = np.zeros((len(sequences), dimension))\n",
        "    for i, sequence in enumerate(sequences):\n",
        "        results[i, sequence] = 1.  # set specific indices of results[i] to 1s\n",
        "    return results"
      ],
      "execution_count": 0,
      "outputs": []
    },
    {
      "cell_type": "code",
      "metadata": {
        "id": "R5P1U6wdy4Kd",
        "colab_type": "code",
        "colab": {}
      },
      "source": [
        "# Our vectorized training data\n",
        "x_train = vectorize_sequences(train_data)\n",
        "# Our vectorized test data\n",
        "x_test = vectorize_sequences(test_data)\n",
        "# Our vectorized labels\n",
        "y_train = np.asarray(train_targets).astype('float32')\n",
        "y_test = np.asarray(test_targets).astype('float32')"
      ],
      "execution_count": 0,
      "outputs": []
    },
    {
      "cell_type": "markdown",
      "metadata": {
        "id": "aAkxI5eEDUWI",
        "colab_type": "text"
      },
      "source": [
        "Original network used for classification"
      ]
    },
    {
      "cell_type": "code",
      "metadata": {
        "id": "wZcnz5aWDV7H",
        "colab_type": "code",
        "outputId": "6d21f9a9-e649-44ff-eb84-a4a307682f2c",
        "colab": {
          "base_uri": "https://localhost:8080/",
          "height": 258
        }
      },
      "source": [
        "original_model = models.Sequential()\n",
        "original_model.add(layers.Dense(16, activation='relu', input_shape=(10000,)))\n",
        "original_model.add(layers.Dense(16, activation='relu'))\n",
        "original_model.add(layers.Dense(1, activation='sigmoid'))\n",
        "\n",
        "original_model.compile(optimizer='rmsprop',\n",
        "                       loss='binary_crossentropy',\n",
        "                       metrics=['acc'])"
      ],
      "execution_count": 0,
      "outputs": [
        {
          "output_type": "stream",
          "text": [
            "WARNING:tensorflow:From /usr/local/lib/python3.6/dist-packages/keras/backend/tensorflow_backend.py:66: The name tf.get_default_graph is deprecated. Please use tf.compat.v1.get_default_graph instead.\n",
            "\n",
            "WARNING:tensorflow:From /usr/local/lib/python3.6/dist-packages/keras/backend/tensorflow_backend.py:541: The name tf.placeholder is deprecated. Please use tf.compat.v1.placeholder instead.\n",
            "\n",
            "WARNING:tensorflow:From /usr/local/lib/python3.6/dist-packages/keras/backend/tensorflow_backend.py:4432: The name tf.random_uniform is deprecated. Please use tf.random.uniform instead.\n",
            "\n",
            "WARNING:tensorflow:From /usr/local/lib/python3.6/dist-packages/keras/optimizers.py:793: The name tf.train.Optimizer is deprecated. Please use tf.compat.v1.train.Optimizer instead.\n",
            "\n",
            "WARNING:tensorflow:From /usr/local/lib/python3.6/dist-packages/keras/backend/tensorflow_backend.py:3657: The name tf.log is deprecated. Please use tf.math.log instead.\n",
            "\n",
            "WARNING:tensorflow:From /usr/local/lib/python3.6/dist-packages/tensorflow_core/python/ops/nn_impl.py:183: where (from tensorflow.python.ops.array_ops) is deprecated and will be removed in a future version.\n",
            "Instructions for updating:\n",
            "Use tf.where in 2.0, which has the same broadcast rule as np.where\n"
          ],
          "name": "stdout"
        }
      ]
    },
    {
      "cell_type": "markdown",
      "metadata": {
        "id": "X-4c90yDzGts",
        "colab_type": "text"
      },
      "source": [
        "Smaller model"
      ]
    },
    {
      "cell_type": "code",
      "metadata": {
        "id": "WKE45TnmzIaE",
        "colab_type": "code",
        "colab": {}
      },
      "source": [
        "smaller_model = models.Sequential()\n",
        "smaller_model.add(layers.Dense(4, activation='relu', input_shape=(10000,)))\n",
        "smaller_model.add(layers.Dense(4, activation='relu'))\n",
        "smaller_model.add(layers.Dense(1, activation='sigmoid'))\n",
        "\n",
        "smaller_model.compile(optimizer='rmsprop',\n",
        "                      loss='binary_crossentropy',\n",
        "                      metrics=['acc'])"
      ],
      "execution_count": 0,
      "outputs": []
    },
    {
      "cell_type": "markdown",
      "metadata": {
        "id": "e4TbEzMkzOQf",
        "colab_type": "text"
      },
      "source": [
        "Comparision"
      ]
    },
    {
      "cell_type": "code",
      "metadata": {
        "id": "X4TEn7ZwzPkZ",
        "colab_type": "code",
        "outputId": "50777fef-9a0c-4e74-92af-712c66664fe6",
        "colab": {
          "base_uri": "https://localhost:8080/",
          "height": 1000
        }
      },
      "source": [
        "original_hist = original_model.fit(x_train, y_train,\n",
        "                                   epochs=20,\n",
        "                                   batch_size=512,\n",
        "                                   validation_data=(x_test, y_test))"
      ],
      "execution_count": 0,
      "outputs": [
        {
          "output_type": "stream",
          "text": [
            "WARNING:tensorflow:From /usr/local/lib/python3.6/dist-packages/keras/backend/tensorflow_backend.py:1033: The name tf.assign_add is deprecated. Please use tf.compat.v1.assign_add instead.\n",
            "\n",
            "WARNING:tensorflow:From /usr/local/lib/python3.6/dist-packages/keras/backend/tensorflow_backend.py:1020: The name tf.assign is deprecated. Please use tf.compat.v1.assign instead.\n",
            "\n",
            "WARNING:tensorflow:From /usr/local/lib/python3.6/dist-packages/keras/backend/tensorflow_backend.py:3005: The name tf.Session is deprecated. Please use tf.compat.v1.Session instead.\n",
            "\n",
            "Train on 25000 samples, validate on 25000 samples\n",
            "Epoch 1/20\n",
            "WARNING:tensorflow:From /usr/local/lib/python3.6/dist-packages/keras/backend/tensorflow_backend.py:190: The name tf.get_default_session is deprecated. Please use tf.compat.v1.get_default_session instead.\n",
            "\n",
            "WARNING:tensorflow:From /usr/local/lib/python3.6/dist-packages/keras/backend/tensorflow_backend.py:197: The name tf.ConfigProto is deprecated. Please use tf.compat.v1.ConfigProto instead.\n",
            "\n",
            "WARNING:tensorflow:From /usr/local/lib/python3.6/dist-packages/keras/backend/tensorflow_backend.py:207: The name tf.global_variables is deprecated. Please use tf.compat.v1.global_variables instead.\n",
            "\n",
            "WARNING:tensorflow:From /usr/local/lib/python3.6/dist-packages/keras/backend/tensorflow_backend.py:216: The name tf.is_variable_initialized is deprecated. Please use tf.compat.v1.is_variable_initialized instead.\n",
            "\n",
            "WARNING:tensorflow:From /usr/local/lib/python3.6/dist-packages/keras/backend/tensorflow_backend.py:223: The name tf.variables_initializer is deprecated. Please use tf.compat.v1.variables_initializer instead.\n",
            "\n",
            "25000/25000 [==============================] - 4s 150us/step - loss: 0.4430 - acc: 0.8242 - val_loss: 0.3312 - val_acc: 0.8811\n",
            "Epoch 2/20\n",
            "25000/25000 [==============================] - 3s 114us/step - loss: 0.2544 - acc: 0.9111 - val_loss: 0.2851 - val_acc: 0.8883\n",
            "Epoch 3/20\n",
            "25000/25000 [==============================] - 3s 115us/step - loss: 0.1989 - acc: 0.9283 - val_loss: 0.2852 - val_acc: 0.8860\n",
            "Epoch 4/20\n",
            "25000/25000 [==============================] - 3s 116us/step - loss: 0.1664 - acc: 0.9414 - val_loss: 0.2938 - val_acc: 0.8841\n",
            "Epoch 5/20\n",
            "25000/25000 [==============================] - 3s 115us/step - loss: 0.1447 - acc: 0.9492 - val_loss: 0.3219 - val_acc: 0.8761\n",
            "Epoch 6/20\n",
            "25000/25000 [==============================] - 3s 114us/step - loss: 0.1279 - acc: 0.9554 - val_loss: 0.3662 - val_acc: 0.8658\n",
            "Epoch 7/20\n",
            "25000/25000 [==============================] - 3s 114us/step - loss: 0.1131 - acc: 0.9619 - val_loss: 0.3522 - val_acc: 0.8733\n",
            "Epoch 8/20\n",
            "25000/25000 [==============================] - 3s 115us/step - loss: 0.0994 - acc: 0.9661 - val_loss: 0.3779 - val_acc: 0.8688\n",
            "Epoch 9/20\n",
            "25000/25000 [==============================] - 3s 115us/step - loss: 0.0866 - acc: 0.9711 - val_loss: 0.4087 - val_acc: 0.8653\n",
            "Epoch 10/20\n",
            "25000/25000 [==============================] - 3s 120us/step - loss: 0.0773 - acc: 0.9750 - val_loss: 0.4322 - val_acc: 0.8648\n",
            "Epoch 11/20\n",
            "25000/25000 [==============================] - 3s 114us/step - loss: 0.0672 - acc: 0.9784 - val_loss: 0.4767 - val_acc: 0.8625\n",
            "Epoch 12/20\n",
            "25000/25000 [==============================] - 3s 114us/step - loss: 0.0636 - acc: 0.9802 - val_loss: 0.4981 - val_acc: 0.8588\n",
            "Epoch 13/20\n",
            "25000/25000 [==============================] - 3s 117us/step - loss: 0.0533 - acc: 0.9840 - val_loss: 0.5205 - val_acc: 0.8586\n",
            "Epoch 14/20\n",
            "25000/25000 [==============================] - 3s 118us/step - loss: 0.0482 - acc: 0.9862 - val_loss: 0.5933 - val_acc: 0.8496\n",
            "Epoch 15/20\n",
            "25000/25000 [==============================] - 3s 114us/step - loss: 0.0406 - acc: 0.9885 - val_loss: 0.5935 - val_acc: 0.8530\n",
            "Epoch 16/20\n",
            "25000/25000 [==============================] - 3s 116us/step - loss: 0.0358 - acc: 0.9904 - val_loss: 0.6371 - val_acc: 0.8534\n",
            "Epoch 17/20\n",
            "25000/25000 [==============================] - 3s 115us/step - loss: 0.0331 - acc: 0.9909 - val_loss: 0.6440 - val_acc: 0.8535\n",
            "Epoch 18/20\n",
            "25000/25000 [==============================] - 3s 115us/step - loss: 0.0276 - acc: 0.9923 - val_loss: 0.6983 - val_acc: 0.8496\n",
            "Epoch 19/20\n",
            "25000/25000 [==============================] - 3s 116us/step - loss: 0.0237 - acc: 0.9938 - val_loss: 0.7128 - val_acc: 0.8494\n",
            "Epoch 20/20\n",
            "25000/25000 [==============================] - 3s 115us/step - loss: 0.0193 - acc: 0.9954 - val_loss: 0.7487 - val_acc: 0.8494\n"
          ],
          "name": "stdout"
        }
      ]
    },
    {
      "cell_type": "code",
      "metadata": {
        "id": "hX5DO0plzQQq",
        "colab_type": "code",
        "outputId": "93c4705e-df17-4c9b-8b96-7d09ca53a4bb",
        "colab": {
          "base_uri": "https://localhost:8080/",
          "height": 714
        }
      },
      "source": [
        "smaller_model_hist = smaller_model.fit(x_train, y_train,\n",
        "                                       epochs=20,\n",
        "                                       batch_size=512,\n",
        "                                       validation_data=(x_test, y_test))"
      ],
      "execution_count": 0,
      "outputs": [
        {
          "output_type": "stream",
          "text": [
            "Train on 25000 samples, validate on 25000 samples\n",
            "Epoch 1/20\n",
            "25000/25000 [==============================] - 3s 118us/step - loss: 0.6226 - acc: 0.6526 - val_loss: 0.5754 - val_acc: 0.7097\n",
            "Epoch 2/20\n",
            "25000/25000 [==============================] - 3s 111us/step - loss: 0.5283 - acc: 0.8072 - val_loss: 0.5128 - val_acc: 0.8222\n",
            "Epoch 3/20\n",
            "25000/25000 [==============================] - 3s 112us/step - loss: 0.4686 - acc: 0.8649 - val_loss: 0.4759 - val_acc: 0.8296\n",
            "Epoch 4/20\n",
            "25000/25000 [==============================] - 3s 110us/step - loss: 0.4240 - acc: 0.8944 - val_loss: 0.4432 - val_acc: 0.8707\n",
            "Epoch 5/20\n",
            "25000/25000 [==============================] - 3s 110us/step - loss: 0.3875 - acc: 0.9174 - val_loss: 0.4294 - val_acc: 0.8594\n",
            "Epoch 6/20\n",
            "25000/25000 [==============================] - 3s 112us/step - loss: 0.3556 - acc: 0.9306 - val_loss: 0.4109 - val_acc: 0.8719\n",
            "Epoch 7/20\n",
            "25000/25000 [==============================] - 3s 110us/step - loss: 0.3266 - acc: 0.9408 - val_loss: 0.3967 - val_acc: 0.8780\n",
            "Epoch 8/20\n",
            "25000/25000 [==============================] - 3s 111us/step - loss: 0.3001 - acc: 0.9476 - val_loss: 0.3871 - val_acc: 0.8795\n",
            "Epoch 9/20\n",
            "25000/25000 [==============================] - 3s 111us/step - loss: 0.2748 - acc: 0.9536 - val_loss: 0.3955 - val_acc: 0.8698\n",
            "Epoch 10/20\n",
            "25000/25000 [==============================] - 3s 113us/step - loss: 0.2491 - acc: 0.9593 - val_loss: 0.3672 - val_acc: 0.8785\n",
            "Epoch 11/20\n",
            "25000/25000 [==============================] - 3s 112us/step - loss: 0.2062 - acc: 0.9598 - val_loss: 0.3317 - val_acc: 0.8785\n",
            "Epoch 12/20\n",
            "25000/25000 [==============================] - 3s 111us/step - loss: 0.1518 - acc: 0.9626 - val_loss: 0.3320 - val_acc: 0.8767\n",
            "Epoch 13/20\n",
            "25000/25000 [==============================] - 3s 111us/step - loss: 0.1276 - acc: 0.9666 - val_loss: 0.3422 - val_acc: 0.8759\n",
            "Epoch 14/20\n",
            "25000/25000 [==============================] - 3s 112us/step - loss: 0.1134 - acc: 0.9697 - val_loss: 0.3465 - val_acc: 0.8742\n",
            "Epoch 15/20\n",
            "25000/25000 [==============================] - 3s 111us/step - loss: 0.1014 - acc: 0.9724 - val_loss: 0.3587 - val_acc: 0.8728\n",
            "Epoch 16/20\n",
            "25000/25000 [==============================] - 3s 111us/step - loss: 0.0911 - acc: 0.9754 - val_loss: 0.3766 - val_acc: 0.8719\n",
            "Epoch 17/20\n",
            "25000/25000 [==============================] - 3s 111us/step - loss: 0.0820 - acc: 0.9779 - val_loss: 0.3901 - val_acc: 0.8701\n",
            "Epoch 18/20\n",
            "25000/25000 [==============================] - 3s 110us/step - loss: 0.0738 - acc: 0.9797 - val_loss: 0.4311 - val_acc: 0.8654\n",
            "Epoch 19/20\n",
            "25000/25000 [==============================] - 3s 111us/step - loss: 0.0653 - acc: 0.9828 - val_loss: 0.4596 - val_acc: 0.8641\n",
            "Epoch 20/20\n",
            "25000/25000 [==============================] - 3s 112us/step - loss: 0.0591 - acc: 0.9838 - val_loss: 0.4530 - val_acc: 0.8649\n"
          ],
          "name": "stdout"
        }
      ]
    },
    {
      "cell_type": "code",
      "metadata": {
        "id": "HogWnhnXzW5l",
        "colab_type": "code",
        "colab": {}
      },
      "source": [
        "epochs = range(1, 21)\n",
        "original_val_loss = original_hist.history['val_loss']\n",
        "smaller_model_val_loss = smaller_model_hist.history['val_loss']"
      ],
      "execution_count": 0,
      "outputs": []
    },
    {
      "cell_type": "code",
      "metadata": {
        "id": "iNfuJydgzZe1",
        "colab_type": "code",
        "outputId": "08f48fbe-3391-41b4-acff-2e47cd299318",
        "colab": {
          "base_uri": "https://localhost:8080/",
          "height": 283
        }
      },
      "source": [
        "# b+ is for \"blue cross\"\n",
        "plt.plot(epochs, original_val_loss, 'b+', label='Original model')\n",
        "# \"bo\" is for \"blue dot\"\n",
        "plt.plot(epochs, smaller_model_val_loss, 'bo', label='Smaller model')\n",
        "plt.xlabel('Epochs')\n",
        "plt.ylabel('Validation loss')\n",
        "plt.legend()\n",
        "\n",
        "plt.show()"
      ],
      "execution_count": 0,
      "outputs": [
        {
          "output_type": "display_data",
          "data": {
            "image/png": "[encoded data removed]",
            "text/plain": [
              "<Figure size 432x288 with 1 Axes>"
            ]
          },
          "metadata": {
            "tags": []
          }
        }
      ]
    },
    {
      "cell_type": "markdown",
      "metadata": {
        "id": "g0VvF9O5zdWa",
        "colab_type": "text"
      },
      "source": [
        "Bigger network"
      ]
    },
    {
      "cell_type": "code",
      "metadata": {
        "id": "hCNzxlImzet0",
        "colab_type": "code",
        "colab": {}
      },
      "source": [
        "bigger_model = models.Sequential()\n",
        "bigger_model.add(layers.Dense(512, activation='relu', input_shape=(10000,)))\n",
        "bigger_model.add(layers.Dense(512, activation='relu'))\n",
        "bigger_model.add(layers.Dense(1, activation='sigmoid'))\n",
        "\n",
        "bigger_model.compile(optimizer='rmsprop',\n",
        "                     loss='binary_crossentropy',\n",
        "                     metrics=['acc'])"
      ],
      "execution_count": 0,
      "outputs": []
    },
    {
      "cell_type": "code",
      "metadata": {
        "id": "AcVUg2IyziXu",
        "colab_type": "code",
        "outputId": "f50368b3-8456-4314-8037-b67af6734f06",
        "colab": {
          "base_uri": "https://localhost:8080/",
          "height": 714
        }
      },
      "source": [
        "bigger_model_hist = bigger_model.fit(x_train, y_train,\n",
        "                                     epochs=20,\n",
        "                                     batch_size=512,\n",
        "                                     validation_data=(x_test, y_test))"
      ],
      "execution_count": 0,
      "outputs": [
        {
          "output_type": "stream",
          "text": [
            "Train on 25000 samples, validate on 25000 samples\n",
            "Epoch 1/20\n",
            "25000/25000 [==============================] - 14s 554us/step - loss: 0.4653 - acc: 0.7998 - val_loss: 0.2820 - val_acc: 0.8873\n",
            "Epoch 2/20\n",
            "25000/25000 [==============================] - 13s 534us/step - loss: 0.2213 - acc: 0.9127 - val_loss: 0.4324 - val_acc: 0.8178\n",
            "Epoch 3/20\n",
            "25000/25000 [==============================] - 13s 535us/step - loss: 0.1299 - acc: 0.9518 - val_loss: 0.3336 - val_acc: 0.8844\n",
            "Epoch 4/20\n",
            "25000/25000 [==============================] - 14s 541us/step - loss: 0.0633 - acc: 0.9802 - val_loss: 0.4211 - val_acc: 0.8816\n",
            "Epoch 5/20\n",
            "25000/25000 [==============================] - 13s 534us/step - loss: 0.0617 - acc: 0.9884 - val_loss: 0.5079 - val_acc: 0.8802\n",
            "Epoch 6/20\n",
            "25000/25000 [==============================] - 13s 532us/step - loss: 0.0926 - acc: 0.9887 - val_loss: 0.6030 - val_acc: 0.8642\n",
            "Epoch 7/20\n",
            "25000/25000 [==============================] - 13s 539us/step - loss: 0.0016 - acc: 0.9999 - val_loss: 0.6426 - val_acc: 0.8806\n",
            "Epoch 8/20\n",
            "25000/25000 [==============================] - 13s 533us/step - loss: 0.0860 - acc: 0.9899 - val_loss: 0.6237 - val_acc: 0.8785\n",
            "Epoch 9/20\n",
            "25000/25000 [==============================] - 13s 532us/step - loss: 2.2151e-04 - acc: 1.0000 - val_loss: 0.7374 - val_acc: 0.8805\n",
            "Epoch 10/20\n",
            "25000/25000 [==============================] - 13s 530us/step - loss: 5.8501e-05 - acc: 1.0000 - val_loss: 0.8778 - val_acc: 0.8770\n",
            "Epoch 11/20\n",
            "25000/25000 [==============================] - 13s 531us/step - loss: 0.1147 - acc: 0.9896 - val_loss: 0.9835 - val_acc: 0.8636\n",
            "Epoch 12/20\n",
            "25000/25000 [==============================] - 13s 530us/step - loss: 8.2072e-04 - acc: 0.9999 - val_loss: 0.9087 - val_acc: 0.8774\n",
            "Epoch 13/20\n",
            "25000/25000 [==============================] - 13s 529us/step - loss: 6.5500e-04 - acc: 1.0000 - val_loss: 0.9210 - val_acc: 0.8778\n",
            "Epoch 14/20\n",
            "25000/25000 [==============================] - 13s 527us/step - loss: 0.0933 - acc: 0.9898 - val_loss: 0.9429 - val_acc: 0.8657\n",
            "Epoch 15/20\n",
            "25000/25000 [==============================] - 13s 527us/step - loss: 0.0614 - acc: 0.9906 - val_loss: 0.7971 - val_acc: 0.8689\n",
            "Epoch 16/20\n",
            "25000/25000 [==============================] - 13s 529us/step - loss: 8.0636e-04 - acc: 1.0000 - val_loss: 0.9969 - val_acc: 0.8580\n",
            "Epoch 17/20\n",
            "25000/25000 [==============================] - 13s 530us/step - loss: 6.7990e-04 - acc: 1.0000 - val_loss: 0.9212 - val_acc: 0.8775\n",
            "Epoch 18/20\n",
            "25000/25000 [==============================] - 13s 527us/step - loss: 6.4782e-04 - acc: 1.0000 - val_loss: 1.0046 - val_acc: 0.8772\n",
            "Epoch 19/20\n",
            "25000/25000 [==============================] - 13s 532us/step - loss: 6.4527e-04 - acc: 1.0000 - val_loss: 1.0573 - val_acc: 0.8767\n",
            "Epoch 20/20\n",
            "25000/25000 [==============================] - 13s 527us/step - loss: 6.4491e-04 - acc: 1.0000 - val_loss: 1.1265 - val_acc: 0.8768\n"
          ],
          "name": "stdout"
        }
      ]
    },
    {
      "cell_type": "markdown",
      "metadata": {
        "id": "l2ITP0m0zn_2",
        "colab_type": "text"
      },
      "source": [
        "Comparision"
      ]
    },
    {
      "cell_type": "code",
      "metadata": {
        "id": "q6AUGsirzpBZ",
        "colab_type": "code",
        "outputId": "3d1bc5c3-5580-40db-e034-7b38a1c97caf",
        "colab": {
          "base_uri": "https://localhost:8080/",
          "height": 283
        }
      },
      "source": [
        "bigger_model_val_loss = bigger_model_hist.history['val_loss']\n",
        "\n",
        "plt.plot(epochs, original_val_loss, 'b+', label='Original model')\n",
        "plt.plot(epochs, bigger_model_val_loss, 'bo', label='Bigger model')\n",
        "plt.xlabel('Epochs')\n",
        "plt.ylabel('Validation loss')\n",
        "plt.legend()\n",
        "\n",
        "plt.show()"
      ],
      "execution_count": 0,
      "outputs": [
        {
          "output_type": "display_data",
          "data": {
            "image/png": "[encoded data removed]",
            "text/plain": [
              "<Figure size 432x288 with 1 Axes>"
            ]
          },
          "metadata": {
            "tags": []
          }
        }
      ]
    },
    {
      "cell_type": "code",
      "metadata": {
        "id": "uQo1X-2lztf_",
        "colab_type": "code",
        "outputId": "851931a9-0dc6-4eba-880c-4579bf341623",
        "colab": {
          "base_uri": "https://localhost:8080/",
          "height": 283
        }
      },
      "source": [
        "original_train_loss = original_hist.history['loss']\n",
        "bigger_model_train_loss = bigger_model_hist.history['loss']\n",
        "\n",
        "plt.plot(epochs, original_train_loss, 'b+', label='Original model')\n",
        "plt.plot(epochs, bigger_model_train_loss, 'bo', label='Bigger model')\n",
        "plt.xlabel('Epochs')\n",
        "plt.ylabel('Training loss')\n",
        "plt.legend()\n",
        "\n",
        "plt.show()"
      ],
      "execution_count": 0,
      "outputs": [
        {
          "output_type": "display_data",
          "data": {
            "image/png": "[encoded data removed]",
            "text/plain": [
              "<Figure size 432x288 with 1 Axes>"
            ]
          },
          "metadata": {
            "tags": []
          }
        }
      ]
    },
    {
      "cell_type": "markdown",
      "metadata": {
        "id": "XEs2PL3_zyXW",
        "colab_type": "text"
      },
      "source": [
        "### Adding weight regularization"
      ]
    },
    {
      "cell_type": "code",
      "metadata": {
        "id": "CQc_SqLzz6Bm",
        "colab_type": "code",
        "colab": {}
      },
      "source": [
        "l2_model = models.Sequential()\n",
        "l2_model.add(layers.Dense(16, kernel_regularizer=regularizers.l2(0.001),\n",
        "                          activation='relu', input_shape=(10000,)))\n",
        "l2_model.add(layers.Dense(16, kernel_regularizer=regularizers.l2(0.001),\n",
        "                          activation='relu'))\n",
        "l2_model.add(layers.Dense(1, activation='sigmoid'))"
      ],
      "execution_count": 0,
      "outputs": []
    },
    {
      "cell_type": "code",
      "metadata": {
        "id": "J8CohYE80NK2",
        "colab_type": "code",
        "colab": {}
      },
      "source": [
        "l2_model.compile(optimizer='rmsprop',\n",
        "                 loss='binary_crossentropy',\n",
        "                 metrics=['acc'])"
      ],
      "execution_count": 0,
      "outputs": []
    },
    {
      "cell_type": "code",
      "metadata": {
        "id": "IJhaThez0TZB",
        "colab_type": "code",
        "outputId": "9aa55ebf-17a8-4650-c01c-6f1d01c2a763",
        "colab": {
          "base_uri": "https://localhost:8080/",
          "height": 714
        }
      },
      "source": [
        "l2_model_hist = l2_model.fit(x_train, y_train,\n",
        "                             epochs=20,\n",
        "                             batch_size=512,\n",
        "                             validation_data=(x_test, y_test))"
      ],
      "execution_count": 0,
      "outputs": [
        {
          "output_type": "stream",
          "text": [
            "Train on 25000 samples, validate on 25000 samples\n",
            "Epoch 1/20\n",
            "25000/25000 [==============================] - 3s 136us/step - loss: 0.5151 - acc: 0.8144 - val_loss: 0.3904 - val_acc: 0.8742\n",
            "Epoch 2/20\n",
            "25000/25000 [==============================] - 3s 123us/step - loss: 0.3193 - acc: 0.9039 - val_loss: 0.3536 - val_acc: 0.8761\n",
            "Epoch 3/20\n",
            "25000/25000 [==============================] - 3s 123us/step - loss: 0.2723 - acc: 0.9196 - val_loss: 0.3252 - val_acc: 0.8887\n",
            "Epoch 4/20\n",
            "25000/25000 [==============================] - 3s 121us/step - loss: 0.2476 - acc: 0.9304 - val_loss: 0.3280 - val_acc: 0.8868\n",
            "Epoch 5/20\n",
            "25000/25000 [==============================] - 3s 123us/step - loss: 0.2331 - acc: 0.9344 - val_loss: 0.3340 - val_acc: 0.8844\n",
            "Epoch 6/20\n",
            "25000/25000 [==============================] - 3s 122us/step - loss: 0.2253 - acc: 0.9388 - val_loss: 0.3465 - val_acc: 0.8801\n",
            "Epoch 7/20\n",
            "25000/25000 [==============================] - 3s 121us/step - loss: 0.2157 - acc: 0.9404 - val_loss: 0.3659 - val_acc: 0.8754\n",
            "Epoch 8/20\n",
            "25000/25000 [==============================] - 3s 121us/step - loss: 0.2119 - acc: 0.9432 - val_loss: 0.3552 - val_acc: 0.8789\n",
            "Epoch 9/20\n",
            "25000/25000 [==============================] - 3s 123us/step - loss: 0.2055 - acc: 0.9466 - val_loss: 0.3614 - val_acc: 0.8781\n",
            "Epoch 10/20\n",
            "25000/25000 [==============================] - 3s 121us/step - loss: 0.1977 - acc: 0.9495 - val_loss: 0.3736 - val_acc: 0.8762\n",
            "Epoch 11/20\n",
            "25000/25000 [==============================] - 3s 123us/step - loss: 0.1958 - acc: 0.9492 - val_loss: 0.3756 - val_acc: 0.8754\n",
            "Epoch 12/20\n",
            "25000/25000 [==============================] - 3s 122us/step - loss: 0.1942 - acc: 0.9508 - val_loss: 0.3873 - val_acc: 0.8741\n",
            "Epoch 13/20\n",
            "25000/25000 [==============================] - 3s 125us/step - loss: 0.1890 - acc: 0.9517 - val_loss: 0.3916 - val_acc: 0.8730\n",
            "Epoch 14/20\n",
            "25000/25000 [==============================] - 3s 123us/step - loss: 0.1843 - acc: 0.9552 - val_loss: 0.3933 - val_acc: 0.8730\n",
            "Epoch 15/20\n",
            "25000/25000 [==============================] - 3s 124us/step - loss: 0.1793 - acc: 0.9568 - val_loss: 0.4153 - val_acc: 0.8654\n",
            "Epoch 16/20\n",
            "25000/25000 [==============================] - 3s 123us/step - loss: 0.1767 - acc: 0.9581 - val_loss: 0.4497 - val_acc: 0.8572\n",
            "Epoch 17/20\n",
            "25000/25000 [==============================] - 3s 122us/step - loss: 0.1753 - acc: 0.9587 - val_loss: 0.4286 - val_acc: 0.8640\n",
            "Epoch 18/20\n",
            "25000/25000 [==============================] - 3s 121us/step - loss: 0.1743 - acc: 0.9580 - val_loss: 0.4176 - val_acc: 0.8685\n",
            "Epoch 19/20\n",
            "25000/25000 [==============================] - 3s 122us/step - loss: 0.1707 - acc: 0.9609 - val_loss: 0.4187 - val_acc: 0.8691\n",
            "Epoch 20/20\n",
            "25000/25000 [==============================] - 3s 121us/step - loss: 0.1608 - acc: 0.9652 - val_loss: 0.4533 - val_acc: 0.8594\n"
          ],
          "name": "stdout"
        }
      ]
    },
    {
      "cell_type": "code",
      "metadata": {
        "id": "rOgO_tG_0Vv6",
        "colab_type": "code",
        "outputId": "66f2827b-64f4-482e-f5a5-9bb566677681",
        "colab": {
          "base_uri": "https://localhost:8080/",
          "height": 283
        }
      },
      "source": [
        "l2_model_val_loss = l2_model_hist.history['val_loss']\n",
        "\n",
        "plt.plot(epochs, original_val_loss, 'b+', label='Original model')\n",
        "plt.plot(epochs, l2_model_val_loss, 'bo', label='L2-regularized model')\n",
        "plt.xlabel('Epochs')\n",
        "plt.ylabel('Validation loss')\n",
        "plt.legend()\n",
        "\n",
        "plt.show()"
      ],
      "execution_count": 0,
      "outputs": [
        {
          "output_type": "display_data",
          "data": {
            "image/png": "[encoded data removed]",
            "text/plain": [
              "<Figure size 432x288 with 1 Axes>"
            ]
          },
          "metadata": {
            "tags": []
          }
        }
      ]
    },
    {
      "cell_type": "markdown",
      "metadata": {
        "id": "qEfB8-RP0jNT",
        "colab_type": "text"
      },
      "source": [
        "### Adding dropout"
      ]
    },
    {
      "cell_type": "code",
      "metadata": {
        "id": "OHx4k37g0k7Q",
        "colab_type": "code",
        "outputId": "e5c698b4-dcef-4722-8996-9256b0f51e00",
        "colab": {
          "base_uri": "https://localhost:8080/",
          "height": 122
        }
      },
      "source": [
        "dpt_model = models.Sequential()\n",
        "dpt_model.add(layers.Dense(16, activation='relu', input_shape=(10000,)))\n",
        "dpt_model.add(layers.Dropout(0.5))\n",
        "dpt_model.add(layers.Dense(16, activation='relu'))\n",
        "dpt_model.add(layers.Dropout(0.5))\n",
        "dpt_model.add(layers.Dense(1, activation='sigmoid'))\n",
        "\n",
        "dpt_model.compile(optimizer='rmsprop',\n",
        "                  loss='binary_crossentropy',\n",
        "                  metrics=['acc'])"
      ],
      "execution_count": 0,
      "outputs": [
        {
          "output_type": "stream",
          "text": [
            "WARNING:tensorflow:From /usr/local/lib/python3.6/dist-packages/keras/backend/tensorflow_backend.py:148: The name tf.placeholder_with_default is deprecated. Please use tf.compat.v1.placeholder_with_default instead.\n",
            "\n",
            "WARNING:tensorflow:From /usr/local/lib/python3.6/dist-packages/keras/backend/tensorflow_backend.py:3733: calling dropout (from tensorflow.python.ops.nn_ops) with keep_prob is deprecated and will be removed in a future version.\n",
            "Instructions for updating:\n",
            "Please use `rate` instead of `keep_prob`. Rate should be set to `rate = 1 - keep_prob`.\n"
          ],
          "name": "stdout"
        }
      ]
    },
    {
      "cell_type": "code",
      "metadata": {
        "id": "tnrqivo10pIT",
        "colab_type": "code",
        "outputId": "4919ceb5-4c06-4144-f88b-9bf6e3b63d93",
        "colab": {
          "base_uri": "https://localhost:8080/",
          "height": 714
        }
      },
      "source": [
        "dpt_model_hist = dpt_model.fit(x_train, y_train,\n",
        "                               epochs=20,\n",
        "                               batch_size=512,\n",
        "                               validation_data=(x_test, y_test))"
      ],
      "execution_count": 0,
      "outputs": [
        {
          "output_type": "stream",
          "text": [
            "Train on 25000 samples, validate on 25000 samples\n",
            "Epoch 1/20\n",
            "25000/25000 [==============================] - 4s 141us/step - loss: 0.6036 - acc: 0.6714 - val_loss: 0.4624 - val_acc: 0.8551\n",
            "Epoch 2/20\n",
            "25000/25000 [==============================] - 3s 125us/step - loss: 0.4471 - acc: 0.8116 - val_loss: 0.3433 - val_acc: 0.8794\n",
            "Epoch 3/20\n",
            "25000/25000 [==============================] - 3s 123us/step - loss: 0.3557 - acc: 0.8617 - val_loss: 0.2966 - val_acc: 0.8867\n",
            "Epoch 4/20\n",
            "25000/25000 [==============================] - 3s 121us/step - loss: 0.3005 - acc: 0.8861 - val_loss: 0.2802 - val_acc: 0.8864\n",
            "Epoch 5/20\n",
            "25000/25000 [==============================] - 3s 126us/step - loss: 0.2601 - acc: 0.9035 - val_loss: 0.2806 - val_acc: 0.8902\n",
            "Epoch 6/20\n",
            "25000/25000 [==============================] - 3s 123us/step - loss: 0.2336 - acc: 0.9134 - val_loss: 0.3053 - val_acc: 0.8852\n",
            "Epoch 7/20\n",
            "25000/25000 [==============================] - 3s 123us/step - loss: 0.2079 - acc: 0.9247 - val_loss: 0.3070 - val_acc: 0.8881\n",
            "Epoch 8/20\n",
            "25000/25000 [==============================] - 3s 123us/step - loss: 0.1928 - acc: 0.9300 - val_loss: 0.3234 - val_acc: 0.8867\n",
            "Epoch 9/20\n",
            "25000/25000 [==============================] - 3s 127us/step - loss: 0.1802 - acc: 0.9360 - val_loss: 0.3375 - val_acc: 0.8860\n",
            "Epoch 10/20\n",
            "25000/25000 [==============================] - 3s 124us/step - loss: 0.1646 - acc: 0.9400 - val_loss: 0.3678 - val_acc: 0.8846\n",
            "Epoch 11/20\n",
            "25000/25000 [==============================] - 3s 123us/step - loss: 0.1522 - acc: 0.9476 - val_loss: 0.3970 - val_acc: 0.8814\n",
            "Epoch 12/20\n",
            "25000/25000 [==============================] - 3s 123us/step - loss: 0.1458 - acc: 0.9502 - val_loss: 0.3965 - val_acc: 0.8805\n",
            "Epoch 13/20\n",
            "25000/25000 [==============================] - 3s 123us/step - loss: 0.1387 - acc: 0.9512 - val_loss: 0.4208 - val_acc: 0.8800\n",
            "Epoch 14/20\n",
            "25000/25000 [==============================] - 3s 122us/step - loss: 0.1306 - acc: 0.9545 - val_loss: 0.4357 - val_acc: 0.8778\n",
            "Epoch 15/20\n",
            "25000/25000 [==============================] - 3s 125us/step - loss: 0.1241 - acc: 0.9550 - val_loss: 0.4670 - val_acc: 0.8776\n",
            "Epoch 16/20\n",
            "25000/25000 [==============================] - 3s 120us/step - loss: 0.1220 - acc: 0.9574 - val_loss: 0.4894 - val_acc: 0.8772\n",
            "Epoch 17/20\n",
            "25000/25000 [==============================] - 3s 120us/step - loss: 0.1168 - acc: 0.9581 - val_loss: 0.5099 - val_acc: 0.8758\n",
            "Epoch 18/20\n",
            "25000/25000 [==============================] - 3s 120us/step - loss: 0.1189 - acc: 0.9588 - val_loss: 0.5603 - val_acc: 0.8754\n",
            "Epoch 19/20\n",
            "25000/25000 [==============================] - 3s 122us/step - loss: 0.1137 - acc: 0.9599 - val_loss: 0.5605 - val_acc: 0.8753\n",
            "Epoch 20/20\n",
            "25000/25000 [==============================] - 3s 119us/step - loss: 0.1150 - acc: 0.9609 - val_loss: 0.5533 - val_acc: 0.8752\n"
          ],
          "name": "stdout"
        }
      ]
    },
    {
      "cell_type": "code",
      "metadata": {
        "id": "nFh5GVKj0rVq",
        "colab_type": "code",
        "outputId": "e252259d-df3a-4aec-ba07-3cd7200868d9",
        "colab": {
          "base_uri": "https://localhost:8080/",
          "height": 283
        }
      },
      "source": [
        "dpt_model_val_loss = dpt_model_hist.history['val_loss']\n",
        "\n",
        "plt.plot(epochs, original_val_loss, 'b+', label='Original model')\n",
        "plt.plot(epochs, dpt_model_val_loss, 'bo', label='Dropout-regularized model')\n",
        "plt.xlabel('Epochs')\n",
        "plt.ylabel('Validation loss')\n",
        "plt.legend()\n",
        "\n",
        "plt.show()"
      ],
      "execution_count": 0,
      "outputs": [
        {
          "output_type": "display_data",
          "data": {
            "image/png": "[encoded data removed]",
            "text/plain": [
              "<Figure size 432x288 with 1 Axes>"
            ]
          },
          "metadata": {
            "tags": []
          }
        }
      ]
    }
  ]
}